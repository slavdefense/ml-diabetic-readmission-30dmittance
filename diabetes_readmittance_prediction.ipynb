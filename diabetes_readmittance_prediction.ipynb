{
 "cells": [
  {
   "cell_type": "markdown",
   "id": "710f63ce",
   "metadata": {},
   "source": [
    "All imports \n"
   ]
  },
  {
   "cell_type": "code",
   "execution_count": 81,
   "id": "97c9b1d7",
   "metadata": {},
   "outputs": [],
   "source": [
    "import pandas as pd\n",
    "import numpy as np\n",
    "import matplotlib.pyplot as plt\n",
    "import seaborn as sns"
   ]
  },
  {
   "cell_type": "markdown",
   "id": "58f3f1e8",
   "metadata": {},
   "source": []
  },
  {
   "cell_type": "markdown",
   "id": "acc1c5a5",
   "metadata": {},
   "source": []
  },
  {
   "cell_type": "code",
   "execution_count": 82,
   "id": "51ad3ce8",
   "metadata": {},
   "outputs": [],
   "source": [
    "diabetes_data = pd.read_csv(\"diabetic_data.csv\")\n",
    "diabetes_data = diabetes_data.copy()\n"
   ]
  },
  {
   "cell_type": "markdown",
   "id": "30090d52",
   "metadata": {},
   "source": [
    "Get all the column names from the dataframe"
   ]
  },
  {
   "cell_type": "code",
   "execution_count": 83,
   "id": "7092379c",
   "metadata": {},
   "outputs": [
    {
     "data": {
      "text/plain": [
       "Index(['encounter_id', 'patient_nbr', 'race', 'gender', 'age', 'weight',\n",
       "       'admission_type_id', 'discharge_disposition_id', 'admission_source_id',\n",
       "       'time_in_hospital', 'payer_code', 'medical_specialty',\n",
       "       'num_lab_procedures', 'num_procedures', 'num_medications',\n",
       "       'number_outpatient', 'number_emergency', 'number_inpatient', 'diag_1',\n",
       "       'diag_2', 'diag_3', 'number_diagnoses', 'max_glu_serum', 'A1Cresult',\n",
       "       'metformin', 'repaglinide', 'nateglinide', 'chlorpropamide',\n",
       "       'glimepiride', 'acetohexamide', 'glipizide', 'glyburide', 'tolbutamide',\n",
       "       'pioglitazone', 'rosiglitazone', 'acarbose', 'miglitol', 'troglitazone',\n",
       "       'tolazamide', 'examide', 'citoglipton', 'insulin',\n",
       "       'glyburide-metformin', 'glipizide-metformin',\n",
       "       'glimepiride-pioglitazone', 'metformin-rosiglitazone',\n",
       "       'metformin-pioglitazone', 'change', 'diabetesMed', 'readmitted'],\n",
       "      dtype='object')"
      ]
     },
     "execution_count": 83,
     "metadata": {},
     "output_type": "execute_result"
    }
   ],
   "source": [
    "diabetes_data.columns"
   ]
  },
  {
   "cell_type": "markdown",
   "id": "d67e52e0",
   "metadata": {},
   "source": [
    "Seperate the target viariable from the dataset.\n"
   ]
  },
  {
   "cell_type": "code",
   "execution_count": 84,
   "id": "edc0a608",
   "metadata": {},
   "outputs": [
    {
     "data": {
      "text/plain": [
       "encounter_id                    0\n",
       "patient_nbr                     0\n",
       "race                            0\n",
       "gender                          0\n",
       "age                             0\n",
       "weight                          0\n",
       "admission_type_id               0\n",
       "discharge_disposition_id        0\n",
       "admission_source_id             0\n",
       "time_in_hospital                0\n",
       "payer_code                      0\n",
       "medical_specialty               0\n",
       "num_lab_procedures              0\n",
       "num_procedures                  0\n",
       "num_medications                 0\n",
       "number_outpatient               0\n",
       "number_emergency                0\n",
       "number_inpatient                0\n",
       "diag_1                          0\n",
       "diag_2                          0\n",
       "diag_3                          0\n",
       "number_diagnoses                0\n",
       "max_glu_serum               96420\n",
       "A1Cresult                   84748\n",
       "metformin                       0\n",
       "repaglinide                     0\n",
       "nateglinide                     0\n",
       "chlorpropamide                  0\n",
       "glimepiride                     0\n",
       "acetohexamide                   0\n",
       "glipizide                       0\n",
       "glyburide                       0\n",
       "tolbutamide                     0\n",
       "pioglitazone                    0\n",
       "rosiglitazone                   0\n",
       "acarbose                        0\n",
       "miglitol                        0\n",
       "troglitazone                    0\n",
       "tolazamide                      0\n",
       "examide                         0\n",
       "citoglipton                     0\n",
       "insulin                         0\n",
       "glyburide-metformin             0\n",
       "glipizide-metformin             0\n",
       "glimepiride-pioglitazone        0\n",
       "metformin-rosiglitazone         0\n",
       "metformin-pioglitazone          0\n",
       "change                          0\n",
       "diabetesMed                     0\n",
       "readmitted                      0\n",
       "dtype: int64"
      ]
     },
     "execution_count": 84,
     "metadata": {},
     "output_type": "execute_result"
    }
   ],
   "source": [
    "pd.isna(diabetes_data).sum()"
   ]
  },
  {
   "cell_type": "code",
   "execution_count": 85,
   "id": "3e8bf42e",
   "metadata": {},
   "outputs": [
    {
     "data": {
      "text/plain": [
       "array([nan, '>7', '>8', 'Norm'], dtype=object)"
      ]
     },
     "execution_count": 85,
     "metadata": {},
     "output_type": "execute_result"
    }
   ],
   "source": [
    "diabetes_data[\"A1Cresult\"].unique()"
   ]
  },
  {
   "cell_type": "markdown",
   "id": "bd6d8e1b",
   "metadata": {},
   "source": [
    "Pandas is treating none as nan which i dont want to. The diabetic dataset does not contain any missing values but since none means \"not measure\" according to the Data description. \n",
    "Therefore, I am converting those nan values into \"not measured\" for every row with the code below"
   ]
  },
  {
   "cell_type": "code",
   "execution_count": 86,
   "id": "c4ea5807",
   "metadata": {},
   "outputs": [],
   "source": [
    "diabetes_data[\"A1Cresult\"] =  diabetes_data['A1Cresult'].replace(np.nan, \"not measured\")"
   ]
  },
  {
   "cell_type": "code",
   "execution_count": null,
   "id": "ace54da5",
   "metadata": {},
   "outputs": [],
   "source": []
  },
  {
   "cell_type": "code",
   "execution_count": 87,
   "id": "aa94fcf8",
   "metadata": {},
   "outputs": [
    {
     "data": {
      "text/plain": [
       "0"
      ]
     },
     "execution_count": 87,
     "metadata": {},
     "output_type": "execute_result"
    }
   ],
   "source": [
    "diabetes_data[\"A1Cresult\"].isna().sum()"
   ]
  },
  {
   "cell_type": "markdown",
   "id": "e0a0d00a",
   "metadata": {},
   "source": [
    "Similary, max_glu_serum does not have any missing values. Panda is treating \"none\" with \"nan\".\n",
    "I am replacing the nan with \"not measured\","
   ]
  },
  {
   "cell_type": "code",
   "execution_count": 88,
   "id": "cba6003b",
   "metadata": {},
   "outputs": [],
   "source": [
    "diabetes_data[\"max_glu_serum\"] =  diabetes_data['max_glu_serum'].replace(np.nan, \"not measured\")"
   ]
  },
  {
   "cell_type": "code",
   "execution_count": 89,
   "id": "75961406",
   "metadata": {},
   "outputs": [
    {
     "data": {
      "text/plain": [
       "0"
      ]
     },
     "execution_count": 89,
     "metadata": {},
     "output_type": "execute_result"
    }
   ],
   "source": [
    "diabetes_data[\"max_glu_serum\"].isna().sum()"
   ]
  },
  {
   "cell_type": "markdown",
   "id": "2245c71c",
   "metadata": {},
   "source": [
    "Now verifying Unique values for max_glu_serum nad A1Cresult"
   ]
  },
  {
   "cell_type": "code",
   "execution_count": 90,
   "id": "83d39398",
   "metadata": {},
   "outputs": [
    {
     "data": {
      "text/plain": [
       "array(['not measured', '>300', 'Norm', '>200'], dtype=object)"
      ]
     },
     "execution_count": 90,
     "metadata": {},
     "output_type": "execute_result"
    }
   ],
   "source": [
    "diabetes_data[\"max_glu_serum\"].unique()"
   ]
  },
  {
   "cell_type": "code",
   "execution_count": 91,
   "id": "842cf73c",
   "metadata": {},
   "outputs": [
    {
     "data": {
      "text/plain": [
       "array(['not measured', '>7', '>8', 'Norm'], dtype=object)"
      ]
     },
     "execution_count": 91,
     "metadata": {},
     "output_type": "execute_result"
    }
   ],
   "source": [
    "diabetes_data[\"A1Cresult\"].unique()"
   ]
  },
  {
   "cell_type": "code",
   "execution_count": 92,
   "id": "48b7f485",
   "metadata": {},
   "outputs": [
    {
     "data": {
      "text/plain": [
       "array(['?', '[75-100)', '[50-75)', '[0-25)', '[100-125)', '[25-50)',\n",
       "       '[125-150)', '[175-200)', '[150-175)', '>200'], dtype=object)"
      ]
     },
     "execution_count": 92,
     "metadata": {},
     "output_type": "execute_result"
    }
   ],
   "source": [
    "diabetes_data[\"weight\"].unique()\n"
   ]
  },
  {
   "cell_type": "code",
   "execution_count": 93,
   "id": "d70219f3",
   "metadata": {},
   "outputs": [],
   "source": [
    "# here we can see ? symbol. This is a missing value so I will replace it with np.na and count how many are missing in total\n",
    "diabetes_data[\"weight\"] = diabetes_data[\"weight\"].replace(\"?\", np.nan)\n"
   ]
  },
  {
   "cell_type": "code",
   "execution_count": 94,
   "id": "945bf266",
   "metadata": {},
   "outputs": [
    {
     "data": {
      "text/plain": [
       "encounter_id                    0\n",
       "patient_nbr                     0\n",
       "race                            0\n",
       "gender                          0\n",
       "age                             0\n",
       "weight                      98569\n",
       "admission_type_id               0\n",
       "discharge_disposition_id        0\n",
       "admission_source_id             0\n",
       "time_in_hospital                0\n",
       "payer_code                      0\n",
       "medical_specialty               0\n",
       "num_lab_procedures              0\n",
       "num_procedures                  0\n",
       "num_medications                 0\n",
       "number_outpatient               0\n",
       "number_emergency                0\n",
       "number_inpatient                0\n",
       "diag_1                          0\n",
       "diag_2                          0\n",
       "diag_3                          0\n",
       "number_diagnoses                0\n",
       "max_glu_serum                   0\n",
       "A1Cresult                       0\n",
       "metformin                       0\n",
       "repaglinide                     0\n",
       "nateglinide                     0\n",
       "chlorpropamide                  0\n",
       "glimepiride                     0\n",
       "acetohexamide                   0\n",
       "glipizide                       0\n",
       "glyburide                       0\n",
       "tolbutamide                     0\n",
       "pioglitazone                    0\n",
       "rosiglitazone                   0\n",
       "acarbose                        0\n",
       "miglitol                        0\n",
       "troglitazone                    0\n",
       "tolazamide                      0\n",
       "examide                         0\n",
       "citoglipton                     0\n",
       "insulin                         0\n",
       "glyburide-metformin             0\n",
       "glipizide-metformin             0\n",
       "glimepiride-pioglitazone        0\n",
       "metformin-rosiglitazone         0\n",
       "metformin-pioglitazone          0\n",
       "change                          0\n",
       "diabetesMed                     0\n",
       "readmitted                      0\n",
       "dtype: int64"
      ]
     },
     "execution_count": 94,
     "metadata": {},
     "output_type": "execute_result"
    }
   ],
   "source": [
    "diabetes_data.isna().sum()"
   ]
  },
  {
   "cell_type": "code",
   "execution_count": 95,
   "id": "930fca16",
   "metadata": {},
   "outputs": [],
   "source": [
    "# I will drop the weight column as 98569 values are missing which is 91% of the data.\n",
    "diabetes_data.drop(columns=[\"weight\"], inplace=True)"
   ]
  },
  {
   "cell_type": "code",
   "execution_count": 96,
   "id": "0f9df27a",
   "metadata": {},
   "outputs": [
    {
     "data": {
      "text/plain": [
       "Index(['encounter_id', 'patient_nbr', 'race', 'gender', 'age',\n",
       "       'admission_type_id', 'discharge_disposition_id', 'admission_source_id',\n",
       "       'time_in_hospital', 'payer_code', 'medical_specialty',\n",
       "       'num_lab_procedures', 'num_procedures', 'num_medications',\n",
       "       'number_outpatient', 'number_emergency', 'number_inpatient', 'diag_1',\n",
       "       'diag_2', 'diag_3', 'number_diagnoses', 'max_glu_serum', 'A1Cresult',\n",
       "       'metformin', 'repaglinide', 'nateglinide', 'chlorpropamide',\n",
       "       'glimepiride', 'acetohexamide', 'glipizide', 'glyburide', 'tolbutamide',\n",
       "       'pioglitazone', 'rosiglitazone', 'acarbose', 'miglitol', 'troglitazone',\n",
       "       'tolazamide', 'examide', 'citoglipton', 'insulin',\n",
       "       'glyburide-metformin', 'glipizide-metformin',\n",
       "       'glimepiride-pioglitazone', 'metformin-rosiglitazone',\n",
       "       'metformin-pioglitazone', 'change', 'diabetesMed', 'readmitted'],\n",
       "      dtype='object')"
      ]
     },
     "execution_count": 96,
     "metadata": {},
     "output_type": "execute_result"
    }
   ],
   "source": [
    "diabetes_data.columns"
   ]
  },
  {
   "cell_type": "code",
   "execution_count": 97,
   "id": "c9b07da0",
   "metadata": {},
   "outputs": [
    {
     "data": {
      "text/plain": [
       "Index(['race', 'gender', 'age', 'admission_type_id',\n",
       "       'discharge_disposition_id', 'admission_source_id', 'time_in_hospital',\n",
       "       'num_lab_procedures', 'num_procedures', 'num_medications',\n",
       "       'number_outpatient', 'number_emergency', 'number_inpatient', 'diag_1',\n",
       "       'diag_2', 'diag_3', 'number_diagnoses', 'max_glu_serum', 'A1Cresult',\n",
       "       'metformin', 'repaglinide', 'nateglinide', 'chlorpropamide',\n",
       "       'glimepiride', 'acetohexamide', 'glipizide', 'glyburide', 'tolbutamide',\n",
       "       'pioglitazone', 'rosiglitazone', 'acarbose', 'miglitol', 'troglitazone',\n",
       "       'tolazamide', 'examide', 'citoglipton', 'insulin',\n",
       "       'glyburide-metformin', 'glipizide-metformin',\n",
       "       'glimepiride-pioglitazone', 'metformin-rosiglitazone',\n",
       "       'metformin-pioglitazone', 'change', 'diabetesMed', 'readmitted'],\n",
       "      dtype='object')"
      ]
     },
     "execution_count": 97,
     "metadata": {},
     "output_type": "execute_result"
    }
   ],
   "source": [
    "# similarly I am going to drop payer code, medical_speicality, encounter ID,\n",
    "# patient number, payer code, medical speciality\n",
    "\n",
    "diabetes_data.drop(columns=[\"encounter_id\", \"patient_nbr\", \"medical_specialty\", \"payer_code\"], inplace=True)\n",
    "diabetes_data.columns"
   ]
  },
  {
   "cell_type": "markdown",
   "id": "0346c835",
   "metadata": {},
   "source": [
    "Now is the time to do some data exploration. I will analyze the data one-by-one for all the features starting with race."
   ]
  },
  {
   "cell_type": "code",
   "execution_count": 98,
   "id": "d48dd1c2",
   "metadata": {},
   "outputs": [
    {
     "data": {
      "text/plain": [
       "array(['Caucasian', 'AfricanAmerican', '?', 'Other', 'Asian', 'Hispanic'],\n",
       "      dtype=object)"
      ]
     },
     "execution_count": 98,
     "metadata": {},
     "output_type": "execute_result"
    }
   ],
   "source": [
    "diabetes_data[\"race\"].unique()"
   ]
  },
  {
   "cell_type": "code",
   "execution_count": 99,
   "id": "2b408099",
   "metadata": {},
   "outputs": [
    {
     "name": "stdout",
     "output_type": "stream",
     "text": [
      "2273\n"
     ]
    }
   ],
   "source": [
    "row_count = diabetes_data[\"race\"].str.contains(\"?\", na=False, regex=False).sum()\n",
    "print(row_count)"
   ]
  },
  {
   "cell_type": "code",
   "execution_count": null,
   "id": "56be5a62",
   "metadata": {},
   "outputs": [],
   "source": [
    "# Removing all rows that dont contains the \"?\" symbol.\n",
    "diabetes_data = diabetes_data[~diabetes_data[\"race\"].str.contains(\"\\?\", na=False)]\n",
    "diabetes_data"
   ]
  },
  {
   "cell_type": "code",
   "execution_count": null,
   "id": "485d7627",
   "metadata": {},
   "outputs": [],
   "source": []
  },
  {
   "cell_type": "code",
   "execution_count": null,
   "id": "5e4a072b",
   "metadata": {},
   "outputs": [],
   "source": [
    "diabetes_data[\"gender\"].unique()"
   ]
  },
  {
   "cell_type": "code",
   "execution_count": null,
   "id": "1f759381",
   "metadata": {},
   "outputs": [],
   "source": [
    "row_count = diabetes_data[\"gender\"].str.contains(\"Unknown/Invalid\").sum()\n",
    "print(row_count)"
   ]
  },
  {
   "cell_type": "code",
   "execution_count": null,
   "id": "94b34792",
   "metadata": {},
   "outputs": [],
   "source": [
    "#removing rows for columns \"gender\" where value is \"Unknown/Invalid\"\n",
    "diabetes_data = diabetes_data[~diabetes_data[\"gender\"].str.contains(\"Unknown/Invalid\", na=False)]\n",
    "diabetes_data"
   ]
  },
  {
   "cell_type": "code",
   "execution_count": null,
   "id": "6f01c8bf",
   "metadata": {},
   "outputs": [],
   "source": [
    "diabetes_data[\"age\"].unique()"
   ]
  },
  {
   "cell_type": "code",
   "execution_count": null,
   "id": "207f8a51",
   "metadata": {},
   "outputs": [],
   "source": [
    "diabetes_data[\"admission_type_id\"].unique()"
   ]
  },
  {
   "cell_type": "code",
   "execution_count": null,
   "id": "1bba14a5",
   "metadata": {},
   "outputs": [],
   "source": [
    "target_var = diabetes_data[\"readmitted\"]\n",
    "target_var\n",
    "pd.unique(target_var)"
   ]
  },
  {
   "cell_type": "code",
   "execution_count": null,
   "id": "32796c29",
   "metadata": {},
   "outputs": [],
   "source": [
    "diabetes_data[\"discharge_disposition_id\"].unique()"
   ]
  },
  {
   "cell_type": "code",
   "execution_count": null,
   "id": "6bf07445",
   "metadata": {},
   "outputs": [],
   "source": [
    "diabetes_data[\"admission_source_id\"].unique()"
   ]
  },
  {
   "cell_type": "markdown",
   "id": "c112cb0d",
   "metadata": {},
   "source": []
  },
  {
   "cell_type": "code",
   "execution_count": null,
   "id": "3f1006d8",
   "metadata": {},
   "outputs": [],
   "source": [
    "diabetes_data[\"time_in_hospital\"].unique()"
   ]
  },
  {
   "cell_type": "code",
   "execution_count": null,
   "id": "6c828c73",
   "metadata": {},
   "outputs": [],
   "source": [
    "diabetes_data[\"num_lab_procedures\"].unique()"
   ]
  },
  {
   "cell_type": "code",
   "execution_count": null,
   "id": "7160444e",
   "metadata": {},
   "outputs": [],
   "source": [
    "diabetes_data[\"num_procedures\"].unique()"
   ]
  },
  {
   "cell_type": "code",
   "execution_count": null,
   "id": "6bd0586b",
   "metadata": {},
   "outputs": [],
   "source": [
    "diabetes_data[\"num_medications\"].unique()"
   ]
  },
  {
   "cell_type": "code",
   "execution_count": null,
   "id": "2f8cd6c9",
   "metadata": {},
   "outputs": [],
   "source": [
    "diabetes_data[\"number_outpatient\"].unique()"
   ]
  },
  {
   "cell_type": "code",
   "execution_count": null,
   "id": "89ada029",
   "metadata": {},
   "outputs": [],
   "source": [
    "diabetes_data[\"number_emergency\"].unique()"
   ]
  },
  {
   "cell_type": "code",
   "execution_count": null,
   "id": "6d65e10a",
   "metadata": {},
   "outputs": [],
   "source": [
    "diabetes_data[\"number_inpatient\"].unique()"
   ]
  },
  {
   "cell_type": "code",
   "execution_count": null,
   "id": "61859326",
   "metadata": {},
   "outputs": [],
   "source": [
    "diabetes_data[\"diag_1\"].unique()"
   ]
  },
  {
   "cell_type": "code",
   "execution_count": null,
   "id": "52397c21",
   "metadata": {},
   "outputs": [],
   "source": [
    "diabetes_data[\"diag_2\"].unique()"
   ]
  },
  {
   "cell_type": "code",
   "execution_count": null,
   "id": "6bc1b33b",
   "metadata": {},
   "outputs": [],
   "source": [
    "diabetes_data[\"diag_3\"].unique()"
   ]
  },
  {
   "cell_type": "code",
   "execution_count": null,
   "id": "ac632f5a",
   "metadata": {},
   "outputs": [],
   "source": [
    "diabetes_data[\"number_diagnoses\"].unique()"
   ]
  },
  {
   "cell_type": "code",
   "execution_count": null,
   "id": "7e70da2f",
   "metadata": {},
   "outputs": [],
   "source": [
    "diabetes_data[\"max_glu_serum\"].unique()"
   ]
  },
  {
   "cell_type": "code",
   "execution_count": null,
   "id": "cc4b5a10",
   "metadata": {},
   "outputs": [],
   "source": [
    "diabetes_data[\"A1Cresult\"].unique()"
   ]
  },
  {
   "cell_type": "code",
   "execution_count": null,
   "id": "8afd7b02",
   "metadata": {},
   "outputs": [],
   "source": [
    "diabetes_data[\"metformin\"].unique()"
   ]
  },
  {
   "cell_type": "code",
   "execution_count": null,
   "id": "5504268f",
   "metadata": {},
   "outputs": [],
   "source": [
    "diabetes_data[\"change\"].unique()"
   ]
  },
  {
   "cell_type": "code",
   "execution_count": null,
   "id": "30043c67",
   "metadata": {},
   "outputs": [],
   "source": [
    "diabetes_data[\"diabetesMed\"].unique()"
   ]
  },
  {
   "cell_type": "code",
   "execution_count": null,
   "id": "f1f7652c",
   "metadata": {},
   "outputs": [],
   "source": [
    "diabetes_data[\"readmitted\"].unique()"
   ]
  },
  {
   "cell_type": "markdown",
   "id": "bf0ba433",
   "metadata": {},
   "source": [
    "No that we have removed all null/redundant values, we will start doing some real exploratory data analysis"
   ]
  },
  {
   "cell_type": "code",
   "execution_count": null,
   "id": "48f41164",
   "metadata": {},
   "outputs": [],
   "source": [
    "diabetes_data.columns"
   ]
  },
  {
   "cell_type": "code",
   "execution_count": null,
   "id": "d0c49b07",
   "metadata": {},
   "outputs": [],
   "source": [
    "box_plot_time_hospital = diabetes_data[\"time_in_hospital\"].plot(kind=\"box\", grid=True)\n",
    "box_plot_time_hospital.set_xlabel(\"time spent in hospital\")\n",
    "box_plot_time_hospital.set_ylabel(\"days\")\n",
    "plt.tight_layout()\n",
    "plt.xticks(rotation=45)\n",
    "plt.show()\n"
   ]
  },
  {
   "cell_type": "code",
   "execution_count": null,
   "id": "273ba76e",
   "metadata": {},
   "outputs": [],
   "source": [
    "diabetes_data[\"time_in_hospital\"].value_counts()"
   ]
  },
  {
   "cell_type": "code",
   "execution_count": null,
   "id": "8f44ac07",
   "metadata": {},
   "outputs": [],
   "source": [
    "diabetes_data[[\"time_in_hospital\", \"num_lab_procedures\", \"num_medications\", \"number_emergency\", \"number_diagnoses\",\n",
    "             \"number_outpatient\", \"number_inpatient\"]].describe()"
   ]
  },
  {
   "cell_type": "markdown",
   "id": "6522373b",
   "metadata": {},
   "source": [
    "Box plot on num_lab_procedures\n"
   ]
  },
  {
   "cell_type": "code",
   "execution_count": null,
   "id": "4b34cda4",
   "metadata": {},
   "outputs": [],
   "source": [
    "box_plot_time_hospital = diabetes_data[\"num_lab_procedures\"].plot(kind=\"box\", grid=True)\n",
    "box_plot_time_hospital.set_xlabel(\"Total lab Procudeures\")\n",
    "box_plot_time_hospital.set_ylabel(\"Count\")\n",
    "plt.tight_layout()\n",
    "plt.xticks(rotation=45)\n",
    "plt.show()"
   ]
  },
  {
   "cell_type": "code",
   "execution_count": null,
   "id": "51d6aaf1",
   "metadata": {},
   "outputs": [],
   "source": [
    "diabetes_data[diabetes_data[\"num_lab_procedures\"]>50][[ \"time_in_hospital\"]].value_counts().sort_index()\n",
    "pd.set_option('display.max_rows', None)\n",
    "diabetes_data[[\"num_lab_procedures\", \"time_in_hospital\"]].groupby([\"time_in_hospital\", \"num_lab_procedures\"]).value_counts()"
   ]
  },
  {
   "cell_type": "code",
   "execution_count": null,
   "id": "ebe23902",
   "metadata": {},
   "outputs": [],
   "source": [
    "scatter_lab_stay = diabetes_data.plot(kind=\"scatter\", x = \"time_in_hospital\",y = \"num_lab_procedures\", grid=True, alpha=0.2)\n",
    "plt.show()"
   ]
  },
  {
   "cell_type": "markdown",
   "id": "9d085a66",
   "metadata": {},
   "source": [
    "Looking at the scratter plot between time in hospital and the total lab procedures it appears that lab procedure tend to increase\n",
    "as time in hospital increases. It also shows that for a particular time of stay, there are variation in the \n",
    "number of lab procedures as well. I have decided to keep the data as it is as removing any outliers may discard\n",
    "valuable insights."
   ]
  },
  {
   "cell_type": "code",
   "execution_count": null,
   "id": "1519b795",
   "metadata": {
    "scrolled": true
   },
   "outputs": [],
   "source": [
    "medication_total = diabetes_data['num_medications']\n",
    "medication_total.plot(kind=\"box\", grid=True)\n",
    "plt.show()"
   ]
  },
  {
   "cell_type": "code",
   "execution_count": null,
   "id": "561ff650",
   "metadata": {},
   "outputs": [],
   "source": [
    "medication_total.value_counts().sort_index()"
   ]
  },
  {
   "cell_type": "markdown",
   "id": "3658ba8e",
   "metadata": {},
   "source": [
    "I have decided to keep the outliers in the total medication because if I remove  cenrtain people who take more \n",
    "number of medicine could indicate multiple conditions of the patient. Removing them might influence the readmission \n",
    "prediction. I have decided to keep them.\n"
   ]
  },
  {
   "cell_type": "code",
   "execution_count": null,
   "id": "d7b785f1",
   "metadata": {},
   "outputs": [],
   "source": [
    "total_emergency_data = diabetes_data['number_emergency']\n",
    "total_emergency_data.plot(kind=\"box\", grid=True)\n",
    "plt.show()"
   ]
  },
  {
   "cell_type": "code",
   "execution_count": null,
   "id": "791d43c5",
   "metadata": {},
   "outputs": [],
   "source": [
    "total_emergency_data.value_counts().sort_index()"
   ]
  },
  {
   "cell_type": "markdown",
   "id": "c6ac2963",
   "metadata": {},
   "source": [
    "Again this is a valid data and I am not removing any outliers. max emergency total is 76 and min is 0. which is \n",
    "completely valid. Removing them might remove those people who are in high chance of going to be readmitted."
   ]
  },
  {
   "cell_type": "markdown",
   "id": "551e1cf3",
   "metadata": {},
   "source": [
    "I want to know the relation between total emergency visits and number of diagnosis.\n"
   ]
  },
  {
   "cell_type": "code",
   "execution_count": null,
   "id": "54adc839",
   "metadata": {},
   "outputs": [],
   "source": [
    "sns.scatterplot(data=diabetes_data, \n",
    "                x=\"number_diagnoses\", \n",
    "                y=\"number_emergency\", \n",
    "                hue=\"readmitted\",  \n",
    "                alpha=0.5)\n",
    "plt.show()"
   ]
  },
  {
   "cell_type": "markdown",
   "id": "8ac97027",
   "metadata": {},
   "source": [
    "Looking at the scatter plot, number of emergency visit increases as the total diagnosis increase up to 9.\n",
    "Then starting from 10, it hits a plateau.\n",
    "This could be of a number of factors like the patient being transferred into another department or\n",
    "data collection limits.\n",
    "Another key insight is that majority of the patients with diagnosis more than 9 are readmitted to the hospital.\n",
    "Readmission also increases as the number of emergency visit increases.( patient who visit the emergency more often might have poorly controlled condition or acute conditions.\n",
    "\n"
   ]
  },
  {
   "cell_type": "code",
   "execution_count": null,
   "id": "365da3ed",
   "metadata": {},
   "outputs": [],
   "source": [
    "total_outpatient_visits = diabetes_data['number_outpatient'].plot(kind=\"box\", grid=True)\n",
    "plt.show()"
   ]
  },
  {
   "cell_type": "markdown",
   "id": "b735c729",
   "metadata": {},
   "source": [
    "The box plot suggest that majority of the  patient have 0 outpatient visit. Rest of the points in the graph\n",
    "suggest that they are outliers but removing these might interfere without prediction of the true readmissionr rate\n",
    "as visiting outpatient as much as 40 doest not seem to be abnormal for patients with complication. So I have \n",
    "decided to keep the data as is."
   ]
  },
  {
   "cell_type": "code",
   "execution_count": null,
   "id": "5ee21443",
   "metadata": {},
   "outputs": [],
   "source": [
    "sns.boxplot(x=\"readmitted\", y=\"number_outpatient\", data=diabetes_data)\n",
    "plt.show()"
   ]
  },
  {
   "cell_type": "markdown",
   "id": "60f8da4b",
   "metadata": {},
   "source": [
    "Inpatient Total Visits"
   ]
  },
  {
   "cell_type": "code",
   "execution_count": null,
   "id": "282e31e4",
   "metadata": {},
   "outputs": [],
   "source": [
    "sns.boxplot(x=\"readmitted\", y=\"number_inpatient\", data=diabetes_data)\n",
    "plt.show()"
   ]
  },
  {
   "cell_type": "markdown",
   "id": "eb32113d",
   "metadata": {},
   "source": [
    "The plot above suggests that higher inpatient visit counts are associated with a higher chance of being readmitted within 30 days."
   ]
  },
  {
   "cell_type": "markdown",
   "id": "367eb1c5",
   "metadata": {},
   "source": [
    "# Now lets take a look at our categorical features\n"
   ]
  },
  {
   "cell_type": "code",
   "execution_count": null,
   "id": "0de97b91",
   "metadata": {},
   "outputs": [],
   "source": [
    "def stacked_bar(feature, title):\n",
    "    \n",
    "    crosstab = pd.crosstab(diabetes_data[feature], diabetes_data['readmitted'], normalize='index')\n",
    "    crosstab.plot(kind='bar', stacked=True)\n",
    "    plt.title(title)\n",
    "    plt.xlabel(feature)\n",
    "    plt.ylabel(\"Proportion\")\n",
    "    plt.xticks(rotation=45)\n",
    "    plt.legend(title='Readmitted')\n",
    "    plt.show()\n",
    "stacked_bar(\"race\", \"Proportion of readmission by Race\")"
   ]
  },
  {
   "cell_type": "markdown",
   "id": "7e4626b4",
   "metadata": {},
   "source": [
    "Looking at the stacked bar chart the readmittance rate is similar in all races.\n",
    "But, I want to make sure by using the chisquare test."
   ]
  },
  {
   "cell_type": "code",
   "execution_count": null,
   "id": "5cef25ea",
   "metadata": {},
   "outputs": [],
   "source": [
    "\n",
    "from scipy.stats import chi2_contingency\n",
    "\n",
    "def chisquare_test_Cramers_value(feature, data):\n",
    "\n",
    "    contingency_table = pd.crosstab(data[feature], data['readmitted'])\n",
    "\n",
    "    chi2, p, degree_of_freedom, expected = chi2_contingency(contingency_table)\n",
    "\n",
    "    print(f\"Chi-square Statistic for {feature} is {chi2}\" )\n",
    "    print(f\"Degrees of Freedom for {feature} is {degree_of_freedom}\" )\n",
    "    print(f\"p-value for {feature} is {p}\")\n",
    "    n = contingency_table.to_numpy().sum()\n",
    "    minumum_dimension = min(contingency_table.shape) -1\n",
    "    cramers_v = np.sqrt(chi2 / (n * minumum_dimension))\n",
    "    print(f\"The Cramers Value for {feature} is {cramers_v}\")\n",
    "\n",
    "chisquare_test_Cramers_value(\"race\", diabetes_data)"
   ]
  },
  {
   "cell_type": "markdown",
   "id": "c4c3ddb0",
   "metadata": {},
   "source": [
    "The p value appears to be extremely small which suggests that even though the stacked bar chart does not show\n",
    "significant relation between race and readmittance within 30 days, The chi square test says it other wise.\n",
    "But the Cramer's value of 0.02175 is an extremely small value that suggest that race is not a strong predrictor and does not have practical significance in predicting the readmmitance of a diabetic patient.\n",
    "\n"
   ]
  },
  {
   "cell_type": "markdown",
   "id": "6adf41ac",
   "metadata": {},
   "source": [
    "\n",
    "here are the values of discharge_disposition_id one of the categorical features.\n",
    "description\n",
    "1 Discharged to home\n",
    "2 Discharged/transferred to another short term hospital\n",
    "3 Discharged/transferred to SNF\n",
    "4 Discharged/transferred to ICF\n",
    "5 Discharged/transferred to another type of inpatient care institution\n",
    "6 Discharged/transferred to home with home health service\n",
    "7 Left AMA\n",
    "8 Discharged/transferred to home under care of Home IV provider\n",
    "9 Admitted as an inpatient to this hospital\n",
    "10 Neonate discharged to another hospital for neonatal aftercare\n",
    "11 Expired\n",
    "12 Still patient or expected to return for outpatient services\n",
    "13 Hospice / home\n",
    "14Hospice / medical facility\n",
    "15 Discharged/transferred within this institution to Medicare approved swing bed\n",
    "16 Discharged/transferred/referred another institution for outpatient services\n",
    "17 Discharged/transferred/referred to this institution for outpatient services\n",
    "18 NULL\n",
    "19 Expired at home. Medicaid only, hospice.\n",
    "20 Expired in a medical facility. Medicaid only, hospice.\n",
    "21 Expired, place unknown. Medicaid only, hospice.\n",
    "22 Discharged/transferred to another rehab fac including rehab units of a hospital .\n",
    "23 Discharged/transferred to a long term care hospital.\n",
    "24 Discharged/transferred to a nursing facility certified under Medicaid but not certified under Medicare.\n",
    "25 Not Mapped\n",
    "26 Unknown/Invalid\n",
    "27 Discharged/transferred to another Type of Health Care Institution not Defined Elsewhere\n",
    "28 Discharged/transferred to a federal health care facility.\n",
    "29 Discharged/transferred/referred to a psychiatric hospital of psychiatric distinct part unit of a hospital\n",
    "30 Discharged/transferred to a Critical Access Hospital (CAH).\n",
    "\n",
    "I will convert \"Not Mapped\", \"Unknown/Invalid\", and \"NULL\" values into a different value  called 31"
   ]
  },
  {
   "cell_type": "code",
   "execution_count": null,
   "id": "92be846e",
   "metadata": {},
   "outputs": [],
   "source": [
    "diabetes_data[\"discharge_disposition_id\"] = diabetes_data[\"discharge_disposition_id\"].replace({18:31,25:31, 26:31 })\n"
   ]
  },
  {
   "cell_type": "code",
   "execution_count": null,
   "id": "c270a695",
   "metadata": {},
   "outputs": [],
   "source": [
    "diabetes_data[\"discharge_disposition_id\"].unique()"
   ]
  },
  {
   "cell_type": "markdown",
   "id": "a3fff426",
   "metadata": {},
   "source": [
    "Now lets run the chi square and Cramer's V \n"
   ]
  },
  {
   "cell_type": "code",
   "execution_count": null,
   "id": "e8ca634d",
   "metadata": {},
   "outputs": [],
   "source": [
    "chisquare_test_Cramers_value(\"discharge_disposition_id\", diabetes_data)"
   ]
  },
  {
   "cell_type": "markdown",
   "id": "cd7094f7",
   "metadata": {},
   "source": [
    "discharge_disposition_id has a extremely low p value and a Cramers V of 0.1325 which is higher compared to the \n",
    "cramers V obtained from race.\n",
    "Thus it is a stronger predictor!\n",
    "This may indicate that the way that patients are diabetic patients are discharge carries more clues in regards to readmission!"
   ]
  },
  {
   "cell_type": "markdown",
   "id": "9d802fb6",
   "metadata": {},
   "source": [
    "Now lets check for gender"
   ]
  },
  {
   "cell_type": "code",
   "execution_count": null,
   "id": "2b5f5e3a",
   "metadata": {},
   "outputs": [],
   "source": [
    "\n",
    "\n",
    "    \n",
    "stacked_bar(\"gender\", \"Proportion of Readmission by Gender\")"
   ]
  },
  {
   "cell_type": "markdown",
   "id": "d49b92d0",
   "metadata": {},
   "source": [
    "Again, looking at the graph, there are similar readmittance proportion between gender and readmittance. \n",
    "I want to check using the chi-square method\n",
    "\n"
   ]
  },
  {
   "cell_type": "code",
   "execution_count": null,
   "id": "c2dd7700",
   "metadata": {},
   "outputs": [],
   "source": [
    "chisquare_test_Cramers_value(\"gender\", diabetes_data)"
   ]
  },
  {
   "cell_type": "markdown",
   "id": "607f5b5c",
   "metadata": {},
   "source": [
    "Again the p-value is significantly low that rejects the null hypothesis of no assosiation between gender and readmisssion.\n",
    "But the Cramers value is not significant and tells that in practicality, gender might be less significant in\n",
    "predicting readmittance. "
   ]
  },
  {
   "cell_type": "code",
   "execution_count": null,
   "id": "ebc7856a",
   "metadata": {},
   "outputs": [],
   "source": [
    "chisquare_test_Cramers_value(\"age\", diabetes_data)"
   ]
  },
  {
   "cell_type": "markdown",
   "id": "e489741f",
   "metadata": {},
   "source": [
    "With 18 degree of freedom and chi-square of 300 with a very small p value, age is a strong candidate for\n",
    "the prediction of readdmitance."
   ]
  },
  {
   "cell_type": "markdown",
   "id": "dead4666",
   "metadata": {},
   "source": [
    "Since age is in range, I am transforming the range into a single value using the midpoint.\n"
   ]
  },
  {
   "cell_type": "code",
   "execution_count": null,
   "id": "30a31b69",
   "metadata": {},
   "outputs": [],
   "source": [
    "diabetes_data['age'].unique()"
   ]
  },
  {
   "cell_type": "code",
   "execution_count": null,
   "id": "9af5037e",
   "metadata": {},
   "outputs": [],
   "source": [
    "diabetes_data['age'] = diabetes_data[\"age\"].replace({'[0-10)': 5,'[10-20)': 15, '[20-30)':25,\n",
    "                    '[30-40)':35, '[40-50)':45, '[50-60)':55,'[60-70)':65, '[70-80)':75, '[80-90)':85,\n",
    "                                                    '[90-100)':95} )"
   ]
  },
  {
   "cell_type": "code",
   "execution_count": null,
   "id": "8d37dc2e",
   "metadata": {},
   "outputs": [],
   "source": [
    "diabetes_data[\"age\"].unique()"
   ]
  },
  {
   "cell_type": "code",
   "execution_count": null,
   "id": "e3c70b0f",
   "metadata": {},
   "outputs": [],
   "source": [
    "chisquare_test_Cramers_value(\"age\", diabetes_data)"
   ]
  },
  {
   "cell_type": "code",
   "execution_count": null,
   "id": "25119659",
   "metadata": {},
   "outputs": [],
   "source": [
    "diabetes_data[\"admission_type_id\"].unique()"
   ]
  },
  {
   "cell_type": "code",
   "execution_count": null,
   "id": "3aec9c43",
   "metadata": {},
   "outputs": [],
   "source": [
    "diabetes_data['admission_type_id'].value_counts()\n"
   ]
  },
  {
   "cell_type": "markdown",
   "id": "d74676c7",
   "metadata": {},
   "source": [
    "here \n",
    "1: Emergency\n",
    "2: Urgent\n",
    "3: Elective\n",
    "4: Newborn\n",
    "5: Not Avaiable\n",
    "6: NULL\n",
    "7: Trauma Center\n",
    "8: Not Mapped\n",
    "    "
   ]
  },
  {
   "cell_type": "code",
   "execution_count": null,
   "id": "3b82a780",
   "metadata": {},
   "outputs": [],
   "source": []
  },
  {
   "cell_type": "code",
   "execution_count": null,
   "id": "06278e6a",
   "metadata": {},
   "outputs": [],
   "source": [
    "chisquare_test_Cramers_value(\"admission_type_id\", diabetes_data)"
   ]
  },
  {
   "cell_type": "markdown",
   "id": "b07aa905",
   "metadata": {},
   "source": [
    "Now, I want to categorize null, not available, and not mapped as unknown. And redo the chi square test"
   ]
  },
  {
   "cell_type": "code",
   "execution_count": null,
   "id": "02a4e645",
   "metadata": {},
   "outputs": [],
   "source": [
    "\n",
    "diabetes_data['admission_type_id'] = diabetes_data[\"admission_type_id\"].replace({6:5, 7:5, 8:5})\n"
   ]
  },
  {
   "cell_type": "code",
   "execution_count": null,
   "id": "b6634801",
   "metadata": {},
   "outputs": [],
   "source": [
    "diabetes_data[\"admission_type_id\"].unique()"
   ]
  },
  {
   "cell_type": "code",
   "execution_count": null,
   "id": "d580bac2",
   "metadata": {},
   "outputs": [],
   "source": []
  },
  {
   "cell_type": "code",
   "execution_count": null,
   "id": "66c7e648",
   "metadata": {},
   "outputs": [],
   "source": [
    "chisquare_test_Cramers_value(\"admission_type_id\",diabetes_data)"
   ]
  },
  {
   "cell_type": "markdown",
   "id": "91356e70",
   "metadata": {},
   "source": [
    "Admission Type also has a good indicative p value but lacks a significant Cramer's V indiciating that in practical, this feature might not be significant for predicting readmittance based on our data."
   ]
  },
  {
   "cell_type": "markdown",
   "id": "70a1b1a1",
   "metadata": {},
   "source": [
    "# Now lets check in admission source id\n",
    "The values of admission source id are\n",
    "1 Physician Referral\n",
    "2 Clinic Referral\n",
    "3 HMO Referral\n",
    "4 Transfer from a hospital\n",
    " 5 Transfer from a Skilled Nursing Facility (SNF)\n",
    " 6 Transfer from another health care facility\n",
    " 7 Emergency Room\n",
    " 8 Court/Law Enforcement\n",
    " 9 Not Available\n",
    " 10 Transfer from critial access hospital\n",
    "11 Normal Delivery\n",
    " 12Premature Delivery\n",
    " 13 Sick Baby\n",
    " 14 Extramural Birth\n",
    "15 Not Available\n",
    "16 NULL\n",
    " 17 Transfer From Another Home Health Agency\n",
    "18 Readmission to Same Home Health Agency\n",
    " 19 Not Mapped\n",
    "20 Unknown/Invalid\n",
    " 21 Transfer from hospital inpt/same fac reslt in a sep claim\n",
    " 22 Born inside this hospital\n",
    " 23 Born outside this hospital\n",
    " 24 Transfer from Ambulatory Surgery Center\n",
    "25 Transfer from Hospice"
   ]
  },
  {
   "cell_type": "markdown",
   "id": "d2d6ac14",
   "metadata": {},
   "source": [
    "For the values Not Available, for 9, 15, null for 17, not mapped for 20, Unknown/Invalid for 21, I will create a value called 27."
   ]
  },
  {
   "cell_type": "code",
   "execution_count": null,
   "id": "85b3409e",
   "metadata": {},
   "outputs": [],
   "source": []
  },
  {
   "cell_type": "code",
   "execution_count": 79,
   "id": "f73f92b5",
   "metadata": {},
   "outputs": [],
   "source": [
    "#diabetes_data['admission_source_id'] = diabetes_data[\"admission_source_id\"].replace({9:27, 15:27, 17:27,20:27})"
   ]
  },
  {
   "cell_type": "code",
   "execution_count": 80,
   "id": "fff5228c",
   "metadata": {},
   "outputs": [],
   "source": [
    "#diabetes_data[\"admission_source_id\"].unique()"
   ]
  },
  {
   "cell_type": "markdown",
   "id": "4253c372",
   "metadata": {},
   "source": [
    "# still need to do one hot encoding for admission types. Will do it later in the pipeline "
   ]
  },
  {
   "cell_type": "code",
   "execution_count": null,
   "id": "5373ca00",
   "metadata": {},
   "outputs": [],
   "source": [
    "\n"
   ]
  }
 ],
 "metadata": {
  "kernelspec": {
   "display_name": "Python 3 (ipykernel)",
   "language": "python",
   "name": "python3"
  },
  "language_info": {
   "codemirror_mode": {
    "name": "ipython",
    "version": 3
   },
   "file_extension": ".py",
   "mimetype": "text/x-python",
   "name": "python",
   "nbconvert_exporter": "python",
   "pygments_lexer": "ipython3",
   "version": "3.11.5"
  }
 },
 "nbformat": 4,
 "nbformat_minor": 5
}
