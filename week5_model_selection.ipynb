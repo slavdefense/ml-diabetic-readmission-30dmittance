{
 "cells": [
  {
   "cell_type": "code",
   "execution_count": 1,
   "id": "c75b669d",
   "metadata": {},
   "outputs": [],
   "source": [
    "import pandas as pd\n",
    "import numpy as np\n",
    "import matplotlib.pyplot as plt\n",
    "import seaborn as sns\n",
    "from sklearn.model_selection import train_test_split\n",
    "from sklearn.impute import SimpleImputer\n",
    "from sklearn.preprocessing import OneHotEncoder, StandardScaler, LabelEncoder\n",
    "from sklearn.compose import ColumnTransformer\n",
    "from sklearn.pipeline import Pipeline\n",
    "from sklearn.metrics import classification_report, accuracy_score\n",
    "from sklearn.linear_model import LogisticRegression\n",
    "from sklearn.ensemble import RandomForestClassifier\n",
    "from xgboost import XGBClassifier\n",
    "\n"
   ]
  },
  {
   "cell_type": "code",
   "execution_count": 2,
   "id": "b4e1d558",
   "metadata": {},
   "outputs": [],
   "source": [
    "# diabetes_data = pd.read_csv(\"cleaned_diabetes_data.csv\")\n",
    "diabetes_data = pd.read_pickle(\"cleaned_diabetes_data.pkl\")\n"
   ]
  },
  {
   "cell_type": "code",
   "execution_count": 3,
   "id": "c22045e8",
   "metadata": {},
   "outputs": [
    {
     "data": {
      "text/plain": [
       "race                        category\n",
       "gender                      category\n",
       "age                            int64\n",
       "admission_type_id              int64\n",
       "discharge_disposition_id       int64\n",
       "admission_source_id            int64\n",
       "time_in_hospital               int64\n",
       "num_lab_procedures             int64\n",
       "num_procedures                 int64\n",
       "num_medications                int64\n",
       "number_outpatient              int64\n",
       "number_emergency               int64\n",
       "number_inpatient               int64\n",
       "diag_1                      category\n",
       "diag_2                      category\n",
       "diag_3                      category\n",
       "number_diagnoses               int64\n",
       "max_glu_serum               category\n",
       "A1Cresult                   category\n",
       "metformin                   category\n",
       "repaglinide                 category\n",
       "nateglinide                 category\n",
       "chlorpropamide              category\n",
       "glimepiride                 category\n",
       "acetohexamide               category\n",
       "glipizide                   category\n",
       "glyburide                   category\n",
       "tolbutamide                 category\n",
       "pioglitazone                category\n",
       "rosiglitazone               category\n",
       "acarbose                    category\n",
       "miglitol                    category\n",
       "troglitazone                category\n",
       "tolazamide                  category\n",
       "examide                     category\n",
       "citoglipton                 category\n",
       "insulin                     category\n",
       "glyburide-metformin         category\n",
       "glipizide-metformin         category\n",
       "glimepiride-pioglitazone    category\n",
       "metformin-rosiglitazone     category\n",
       "metformin-pioglitazone      category\n",
       "change                      category\n",
       "diabetesMed                 category\n",
       "readmitted                  category\n",
       "dtype: object"
      ]
     },
     "execution_count": 3,
     "metadata": {},
     "output_type": "execute_result"
    }
   ],
   "source": [
    "diabetes_data.dtypes"
   ]
  },
  {
   "cell_type": "code",
   "execution_count": null,
   "id": "89dad9a6",
   "metadata": {},
   "outputs": [],
   "source": []
  },
  {
   "cell_type": "code",
   "execution_count": 4,
   "id": "f1a8423f",
   "metadata": {},
   "outputs": [
    {
     "data": {
      "text/html": [
       "<div>\n",
       "<style scoped>\n",
       "    .dataframe tbody tr th:only-of-type {\n",
       "        vertical-align: middle;\n",
       "    }\n",
       "\n",
       "    .dataframe tbody tr th {\n",
       "        vertical-align: top;\n",
       "    }\n",
       "\n",
       "    .dataframe thead th {\n",
       "        text-align: right;\n",
       "    }\n",
       "</style>\n",
       "<table border=\"1\" class=\"dataframe\">\n",
       "  <thead>\n",
       "    <tr style=\"text-align: right;\">\n",
       "      <th></th>\n",
       "      <th>race</th>\n",
       "      <th>gender</th>\n",
       "      <th>age</th>\n",
       "      <th>admission_type_id</th>\n",
       "      <th>discharge_disposition_id</th>\n",
       "      <th>admission_source_id</th>\n",
       "      <th>time_in_hospital</th>\n",
       "      <th>num_lab_procedures</th>\n",
       "      <th>num_procedures</th>\n",
       "      <th>num_medications</th>\n",
       "      <th>...</th>\n",
       "      <th>citoglipton</th>\n",
       "      <th>insulin</th>\n",
       "      <th>glyburide-metformin</th>\n",
       "      <th>glipizide-metformin</th>\n",
       "      <th>glimepiride-pioglitazone</th>\n",
       "      <th>metformin-rosiglitazone</th>\n",
       "      <th>metformin-pioglitazone</th>\n",
       "      <th>change</th>\n",
       "      <th>diabetesMed</th>\n",
       "      <th>readmitted</th>\n",
       "    </tr>\n",
       "  </thead>\n",
       "  <tbody>\n",
       "    <tr>\n",
       "      <th>1</th>\n",
       "      <td>Caucasian</td>\n",
       "      <td>Female</td>\n",
       "      <td>15</td>\n",
       "      <td>1</td>\n",
       "      <td>1</td>\n",
       "      <td>7</td>\n",
       "      <td>3</td>\n",
       "      <td>59</td>\n",
       "      <td>0</td>\n",
       "      <td>18</td>\n",
       "      <td>...</td>\n",
       "      <td>No</td>\n",
       "      <td>Up</td>\n",
       "      <td>No</td>\n",
       "      <td>No</td>\n",
       "      <td>No</td>\n",
       "      <td>No</td>\n",
       "      <td>No</td>\n",
       "      <td>Ch</td>\n",
       "      <td>Yes</td>\n",
       "      <td>&gt;30</td>\n",
       "    </tr>\n",
       "    <tr>\n",
       "      <th>2</th>\n",
       "      <td>AfricanAmerican</td>\n",
       "      <td>Female</td>\n",
       "      <td>25</td>\n",
       "      <td>1</td>\n",
       "      <td>1</td>\n",
       "      <td>7</td>\n",
       "      <td>2</td>\n",
       "      <td>11</td>\n",
       "      <td>5</td>\n",
       "      <td>13</td>\n",
       "      <td>...</td>\n",
       "      <td>No</td>\n",
       "      <td>No</td>\n",
       "      <td>No</td>\n",
       "      <td>No</td>\n",
       "      <td>No</td>\n",
       "      <td>No</td>\n",
       "      <td>No</td>\n",
       "      <td>No</td>\n",
       "      <td>Yes</td>\n",
       "      <td>NO</td>\n",
       "    </tr>\n",
       "    <tr>\n",
       "      <th>3</th>\n",
       "      <td>Caucasian</td>\n",
       "      <td>Male</td>\n",
       "      <td>35</td>\n",
       "      <td>1</td>\n",
       "      <td>1</td>\n",
       "      <td>7</td>\n",
       "      <td>2</td>\n",
       "      <td>44</td>\n",
       "      <td>1</td>\n",
       "      <td>16</td>\n",
       "      <td>...</td>\n",
       "      <td>No</td>\n",
       "      <td>Up</td>\n",
       "      <td>No</td>\n",
       "      <td>No</td>\n",
       "      <td>No</td>\n",
       "      <td>No</td>\n",
       "      <td>No</td>\n",
       "      <td>Ch</td>\n",
       "      <td>Yes</td>\n",
       "      <td>NO</td>\n",
       "    </tr>\n",
       "    <tr>\n",
       "      <th>4</th>\n",
       "      <td>Caucasian</td>\n",
       "      <td>Male</td>\n",
       "      <td>45</td>\n",
       "      <td>1</td>\n",
       "      <td>1</td>\n",
       "      <td>7</td>\n",
       "      <td>1</td>\n",
       "      <td>51</td>\n",
       "      <td>0</td>\n",
       "      <td>8</td>\n",
       "      <td>...</td>\n",
       "      <td>No</td>\n",
       "      <td>Steady</td>\n",
       "      <td>No</td>\n",
       "      <td>No</td>\n",
       "      <td>No</td>\n",
       "      <td>No</td>\n",
       "      <td>No</td>\n",
       "      <td>Ch</td>\n",
       "      <td>Yes</td>\n",
       "      <td>NO</td>\n",
       "    </tr>\n",
       "    <tr>\n",
       "      <th>5</th>\n",
       "      <td>Caucasian</td>\n",
       "      <td>Male</td>\n",
       "      <td>55</td>\n",
       "      <td>2</td>\n",
       "      <td>1</td>\n",
       "      <td>2</td>\n",
       "      <td>3</td>\n",
       "      <td>31</td>\n",
       "      <td>6</td>\n",
       "      <td>16</td>\n",
       "      <td>...</td>\n",
       "      <td>No</td>\n",
       "      <td>Steady</td>\n",
       "      <td>No</td>\n",
       "      <td>No</td>\n",
       "      <td>No</td>\n",
       "      <td>No</td>\n",
       "      <td>No</td>\n",
       "      <td>No</td>\n",
       "      <td>Yes</td>\n",
       "      <td>&gt;30</td>\n",
       "    </tr>\n",
       "  </tbody>\n",
       "</table>\n",
       "<p>5 rows × 45 columns</p>\n",
       "</div>"
      ],
      "text/plain": [
       "              race  gender  age  admission_type_id  discharge_disposition_id  \\\n",
       "1        Caucasian  Female   15                  1                         1   \n",
       "2  AfricanAmerican  Female   25                  1                         1   \n",
       "3        Caucasian    Male   35                  1                         1   \n",
       "4        Caucasian    Male   45                  1                         1   \n",
       "5        Caucasian    Male   55                  2                         1   \n",
       "\n",
       "   admission_source_id  time_in_hospital  num_lab_procedures  num_procedures  \\\n",
       "1                    7                 3                  59               0   \n",
       "2                    7                 2                  11               5   \n",
       "3                    7                 2                  44               1   \n",
       "4                    7                 1                  51               0   \n",
       "5                    2                 3                  31               6   \n",
       "\n",
       "   num_medications  ...  citoglipton  insulin  glyburide-metformin  \\\n",
       "1               18  ...           No       Up                   No   \n",
       "2               13  ...           No       No                   No   \n",
       "3               16  ...           No       Up                   No   \n",
       "4                8  ...           No   Steady                   No   \n",
       "5               16  ...           No   Steady                   No   \n",
       "\n",
       "  glipizide-metformin glimepiride-pioglitazone metformin-rosiglitazone  \\\n",
       "1                  No                       No                      No   \n",
       "2                  No                       No                      No   \n",
       "3                  No                       No                      No   \n",
       "4                  No                       No                      No   \n",
       "5                  No                       No                      No   \n",
       "\n",
       "   metformin-pioglitazone change diabetesMed readmitted  \n",
       "1                      No     Ch         Yes        >30  \n",
       "2                      No     No         Yes         NO  \n",
       "3                      No     Ch         Yes         NO  \n",
       "4                      No     Ch         Yes         NO  \n",
       "5                      No     No         Yes        >30  \n",
       "\n",
       "[5 rows x 45 columns]"
      ]
     },
     "execution_count": 4,
     "metadata": {},
     "output_type": "execute_result"
    }
   ],
   "source": [
    "diabetes_data.head()\n",
    "# diabetes_data = diabetes_data.drop(columns=[\"A1Cresult\",\"max_glu_serum\",'metformin',\n",
    "#  'repaglinide',\n",
    "#  'nateglinide',\n",
    "#  'chlorpropamide',\n",
    "#  'glimepiride',\n",
    "#  'acetohexamide',\n",
    "#  'glipizide',\n",
    "#  'glyburide',\n",
    "#  'tolbutamide',\n",
    "#  'pioglitazone',\n",
    "#  'rosiglitazone',\n",
    "#  'acarbose',\n",
    "#  'miglitol',\n",
    "#  'troglitazone',\n",
    "#  'tolazamide',\n",
    "#  'examide',\n",
    "#  'citoglipton',\n",
    "#  'insulin',\n",
    "#  'glyburide-metformin',\n",
    "#  'glipizide-metformin',\n",
    "#  'glimepiride-pioglitazone',\n",
    "#  'metformin-rosiglitazone',\n",
    "#  'metformin-pioglitazone', ])\n",
    "\n",
    "\n",
    "# diabetes_data[\"emergency_inpatient_outpatient\"] = (diabetes_data['number_emergency'] +\n",
    "#                                         diabetes_data['number_inpatient'] +\n",
    "#                                         diabetes_data['number_outpatient'])\n",
    "# diabetes_data = diabetes_data.drop(columns=['number_emergency', 'number_inpatient', 'number_outpatient'])"
   ]
  },
  {
   "cell_type": "code",
   "execution_count": 5,
   "id": "0dafb68b",
   "metadata": {},
   "outputs": [],
   "source": [
    "target_data = diabetes_data[\"readmitted\"]\n",
    "# label_encoder = LabelEncoder()\n",
    "# target_data = label_encoder.fit_transform(target_data)"
   ]
  },
  {
   "cell_type": "code",
   "execution_count": 6,
   "id": "1ddb4911",
   "metadata": {},
   "outputs": [],
   "source": [
    "target_data = target_data.replace({'<30': 1, '>30':1, \"NO\":0})\n"
   ]
  },
  {
   "cell_type": "code",
   "execution_count": 7,
   "id": "bd11caf5",
   "metadata": {},
   "outputs": [
    {
     "data": {
      "text/plain": [
       "[1, 0]\n",
       "Categories (2, int64): [1, 0]"
      ]
     },
     "execution_count": 7,
     "metadata": {},
     "output_type": "execute_result"
    }
   ],
   "source": [
    "target_data.unique()"
   ]
  },
  {
   "cell_type": "code",
   "execution_count": 8,
   "id": "e3663c07",
   "metadata": {},
   "outputs": [
    {
     "data": {
      "text/html": [
       "<div>\n",
       "<style scoped>\n",
       "    .dataframe tbody tr th:only-of-type {\n",
       "        vertical-align: middle;\n",
       "    }\n",
       "\n",
       "    .dataframe tbody tr th {\n",
       "        vertical-align: top;\n",
       "    }\n",
       "\n",
       "    .dataframe thead th {\n",
       "        text-align: right;\n",
       "    }\n",
       "</style>\n",
       "<table border=\"1\" class=\"dataframe\">\n",
       "  <thead>\n",
       "    <tr style=\"text-align: right;\">\n",
       "      <th></th>\n",
       "      <th>race</th>\n",
       "      <th>gender</th>\n",
       "      <th>age</th>\n",
       "      <th>admission_type_id</th>\n",
       "      <th>discharge_disposition_id</th>\n",
       "      <th>admission_source_id</th>\n",
       "      <th>time_in_hospital</th>\n",
       "      <th>num_lab_procedures</th>\n",
       "      <th>num_procedures</th>\n",
       "      <th>num_medications</th>\n",
       "      <th>...</th>\n",
       "      <th>examide</th>\n",
       "      <th>citoglipton</th>\n",
       "      <th>insulin</th>\n",
       "      <th>glyburide-metformin</th>\n",
       "      <th>glipizide-metformin</th>\n",
       "      <th>glimepiride-pioglitazone</th>\n",
       "      <th>metformin-rosiglitazone</th>\n",
       "      <th>metformin-pioglitazone</th>\n",
       "      <th>change</th>\n",
       "      <th>diabetesMed</th>\n",
       "    </tr>\n",
       "  </thead>\n",
       "  <tbody>\n",
       "    <tr>\n",
       "      <th>1</th>\n",
       "      <td>Caucasian</td>\n",
       "      <td>Female</td>\n",
       "      <td>15</td>\n",
       "      <td>1</td>\n",
       "      <td>1</td>\n",
       "      <td>7</td>\n",
       "      <td>3</td>\n",
       "      <td>59</td>\n",
       "      <td>0</td>\n",
       "      <td>18</td>\n",
       "      <td>...</td>\n",
       "      <td>No</td>\n",
       "      <td>No</td>\n",
       "      <td>Up</td>\n",
       "      <td>No</td>\n",
       "      <td>No</td>\n",
       "      <td>No</td>\n",
       "      <td>No</td>\n",
       "      <td>No</td>\n",
       "      <td>Ch</td>\n",
       "      <td>Yes</td>\n",
       "    </tr>\n",
       "    <tr>\n",
       "      <th>2</th>\n",
       "      <td>AfricanAmerican</td>\n",
       "      <td>Female</td>\n",
       "      <td>25</td>\n",
       "      <td>1</td>\n",
       "      <td>1</td>\n",
       "      <td>7</td>\n",
       "      <td>2</td>\n",
       "      <td>11</td>\n",
       "      <td>5</td>\n",
       "      <td>13</td>\n",
       "      <td>...</td>\n",
       "      <td>No</td>\n",
       "      <td>No</td>\n",
       "      <td>No</td>\n",
       "      <td>No</td>\n",
       "      <td>No</td>\n",
       "      <td>No</td>\n",
       "      <td>No</td>\n",
       "      <td>No</td>\n",
       "      <td>No</td>\n",
       "      <td>Yes</td>\n",
       "    </tr>\n",
       "    <tr>\n",
       "      <th>3</th>\n",
       "      <td>Caucasian</td>\n",
       "      <td>Male</td>\n",
       "      <td>35</td>\n",
       "      <td>1</td>\n",
       "      <td>1</td>\n",
       "      <td>7</td>\n",
       "      <td>2</td>\n",
       "      <td>44</td>\n",
       "      <td>1</td>\n",
       "      <td>16</td>\n",
       "      <td>...</td>\n",
       "      <td>No</td>\n",
       "      <td>No</td>\n",
       "      <td>Up</td>\n",
       "      <td>No</td>\n",
       "      <td>No</td>\n",
       "      <td>No</td>\n",
       "      <td>No</td>\n",
       "      <td>No</td>\n",
       "      <td>Ch</td>\n",
       "      <td>Yes</td>\n",
       "    </tr>\n",
       "    <tr>\n",
       "      <th>4</th>\n",
       "      <td>Caucasian</td>\n",
       "      <td>Male</td>\n",
       "      <td>45</td>\n",
       "      <td>1</td>\n",
       "      <td>1</td>\n",
       "      <td>7</td>\n",
       "      <td>1</td>\n",
       "      <td>51</td>\n",
       "      <td>0</td>\n",
       "      <td>8</td>\n",
       "      <td>...</td>\n",
       "      <td>No</td>\n",
       "      <td>No</td>\n",
       "      <td>Steady</td>\n",
       "      <td>No</td>\n",
       "      <td>No</td>\n",
       "      <td>No</td>\n",
       "      <td>No</td>\n",
       "      <td>No</td>\n",
       "      <td>Ch</td>\n",
       "      <td>Yes</td>\n",
       "    </tr>\n",
       "    <tr>\n",
       "      <th>5</th>\n",
       "      <td>Caucasian</td>\n",
       "      <td>Male</td>\n",
       "      <td>55</td>\n",
       "      <td>2</td>\n",
       "      <td>1</td>\n",
       "      <td>2</td>\n",
       "      <td>3</td>\n",
       "      <td>31</td>\n",
       "      <td>6</td>\n",
       "      <td>16</td>\n",
       "      <td>...</td>\n",
       "      <td>No</td>\n",
       "      <td>No</td>\n",
       "      <td>Steady</td>\n",
       "      <td>No</td>\n",
       "      <td>No</td>\n",
       "      <td>No</td>\n",
       "      <td>No</td>\n",
       "      <td>No</td>\n",
       "      <td>No</td>\n",
       "      <td>Yes</td>\n",
       "    </tr>\n",
       "  </tbody>\n",
       "</table>\n",
       "<p>5 rows × 44 columns</p>\n",
       "</div>"
      ],
      "text/plain": [
       "              race  gender  age  admission_type_id  discharge_disposition_id  \\\n",
       "1        Caucasian  Female   15                  1                         1   \n",
       "2  AfricanAmerican  Female   25                  1                         1   \n",
       "3        Caucasian    Male   35                  1                         1   \n",
       "4        Caucasian    Male   45                  1                         1   \n",
       "5        Caucasian    Male   55                  2                         1   \n",
       "\n",
       "   admission_source_id  time_in_hospital  num_lab_procedures  num_procedures  \\\n",
       "1                    7                 3                  59               0   \n",
       "2                    7                 2                  11               5   \n",
       "3                    7                 2                  44               1   \n",
       "4                    7                 1                  51               0   \n",
       "5                    2                 3                  31               6   \n",
       "\n",
       "   num_medications  ...  examide  citoglipton  insulin glyburide-metformin  \\\n",
       "1               18  ...       No           No       Up                  No   \n",
       "2               13  ...       No           No       No                  No   \n",
       "3               16  ...       No           No       Up                  No   \n",
       "4                8  ...       No           No   Steady                  No   \n",
       "5               16  ...       No           No   Steady                  No   \n",
       "\n",
       "  glipizide-metformin glimepiride-pioglitazone  metformin-rosiglitazone  \\\n",
       "1                  No                       No                       No   \n",
       "2                  No                       No                       No   \n",
       "3                  No                       No                       No   \n",
       "4                  No                       No                       No   \n",
       "5                  No                       No                       No   \n",
       "\n",
       "  metformin-pioglitazone change diabetesMed  \n",
       "1                     No     Ch         Yes  \n",
       "2                     No     No         Yes  \n",
       "3                     No     Ch         Yes  \n",
       "4                     No     Ch         Yes  \n",
       "5                     No     No         Yes  \n",
       "\n",
       "[5 rows x 44 columns]"
      ]
     },
     "execution_count": 8,
     "metadata": {},
     "output_type": "execute_result"
    }
   ],
   "source": [
    "features_diabetes_data = diabetes_data.drop(columns=\"readmitted\")\n",
    "features_diabetes_data.head()"
   ]
  },
  {
   "cell_type": "code",
   "execution_count": 9,
   "id": "e2721d17",
   "metadata": {},
   "outputs": [],
   "source": [
    "#Using the train test split from Sklearn. note that I am using startify because I want the proportions\n",
    "#of the target to be balanced"
   ]
  },
  {
   "cell_type": "code",
   "execution_count": 10,
   "id": "9d404e0d",
   "metadata": {},
   "outputs": [],
   "source": [
    "x_train, x_test, y_train, y_test = train_test_split(features_diabetes_data,target_data , train_size=.8,random_state=42, stratify=target_data)"
   ]
  },
  {
   "cell_type": "code",
   "execution_count": null,
   "id": "11f5dd8d",
   "metadata": {},
   "outputs": [],
   "source": []
  },
  {
   "cell_type": "code",
   "execution_count": 11,
   "id": "ad965cfd",
   "metadata": {},
   "outputs": [
    {
     "name": "stdout",
     "output_type": "stream",
     "text": [
      "x_train length  is 78500 which  should be equal to x_train of length 78500\n"
     ]
    }
   ],
   "source": [
    "# insanity test for confirming the split\n",
    "print(f\"x_train length  is {len(x_train)} which  should be equal to x_train of length {len(y_train)}\")"
   ]
  },
  {
   "cell_type": "code",
   "execution_count": 12,
   "id": "c39f82e9",
   "metadata": {},
   "outputs": [
    {
     "data": {
      "text/html": [
       "<div>\n",
       "<style scoped>\n",
       "    .dataframe tbody tr th:only-of-type {\n",
       "        vertical-align: middle;\n",
       "    }\n",
       "\n",
       "    .dataframe tbody tr th {\n",
       "        vertical-align: top;\n",
       "    }\n",
       "\n",
       "    .dataframe thead th {\n",
       "        text-align: right;\n",
       "    }\n",
       "</style>\n",
       "<table border=\"1\" class=\"dataframe\">\n",
       "  <thead>\n",
       "    <tr style=\"text-align: right;\">\n",
       "      <th></th>\n",
       "      <th>race</th>\n",
       "      <th>gender</th>\n",
       "      <th>age</th>\n",
       "      <th>admission_type_id</th>\n",
       "      <th>discharge_disposition_id</th>\n",
       "      <th>admission_source_id</th>\n",
       "      <th>time_in_hospital</th>\n",
       "      <th>num_lab_procedures</th>\n",
       "      <th>num_procedures</th>\n",
       "      <th>num_medications</th>\n",
       "      <th>...</th>\n",
       "      <th>examide</th>\n",
       "      <th>citoglipton</th>\n",
       "      <th>insulin</th>\n",
       "      <th>glyburide-metformin</th>\n",
       "      <th>glipizide-metformin</th>\n",
       "      <th>glimepiride-pioglitazone</th>\n",
       "      <th>metformin-rosiglitazone</th>\n",
       "      <th>metformin-pioglitazone</th>\n",
       "      <th>change</th>\n",
       "      <th>diabetesMed</th>\n",
       "    </tr>\n",
       "  </thead>\n",
       "  <tbody>\n",
       "    <tr>\n",
       "      <th>8029</th>\n",
       "      <td>Caucasian</td>\n",
       "      <td>Female</td>\n",
       "      <td>55</td>\n",
       "      <td>2</td>\n",
       "      <td>31</td>\n",
       "      <td>1</td>\n",
       "      <td>8</td>\n",
       "      <td>45</td>\n",
       "      <td>0</td>\n",
       "      <td>16</td>\n",
       "      <td>...</td>\n",
       "      <td>No</td>\n",
       "      <td>No</td>\n",
       "      <td>Steady</td>\n",
       "      <td>No</td>\n",
       "      <td>No</td>\n",
       "      <td>No</td>\n",
       "      <td>No</td>\n",
       "      <td>No</td>\n",
       "      <td>Ch</td>\n",
       "      <td>Yes</td>\n",
       "    </tr>\n",
       "    <tr>\n",
       "      <th>34129</th>\n",
       "      <td>Caucasian</td>\n",
       "      <td>Male</td>\n",
       "      <td>75</td>\n",
       "      <td>5</td>\n",
       "      <td>3</td>\n",
       "      <td>27</td>\n",
       "      <td>3</td>\n",
       "      <td>7</td>\n",
       "      <td>2</td>\n",
       "      <td>29</td>\n",
       "      <td>...</td>\n",
       "      <td>No</td>\n",
       "      <td>No</td>\n",
       "      <td>No</td>\n",
       "      <td>No</td>\n",
       "      <td>No</td>\n",
       "      <td>No</td>\n",
       "      <td>No</td>\n",
       "      <td>No</td>\n",
       "      <td>No</td>\n",
       "      <td>No</td>\n",
       "    </tr>\n",
       "    <tr>\n",
       "      <th>10672</th>\n",
       "      <td>Caucasian</td>\n",
       "      <td>Female</td>\n",
       "      <td>85</td>\n",
       "      <td>1</td>\n",
       "      <td>31</td>\n",
       "      <td>7</td>\n",
       "      <td>6</td>\n",
       "      <td>38</td>\n",
       "      <td>0</td>\n",
       "      <td>8</td>\n",
       "      <td>...</td>\n",
       "      <td>No</td>\n",
       "      <td>No</td>\n",
       "      <td>Up</td>\n",
       "      <td>No</td>\n",
       "      <td>No</td>\n",
       "      <td>No</td>\n",
       "      <td>No</td>\n",
       "      <td>No</td>\n",
       "      <td>Ch</td>\n",
       "      <td>Yes</td>\n",
       "    </tr>\n",
       "    <tr>\n",
       "      <th>56844</th>\n",
       "      <td>Caucasian</td>\n",
       "      <td>Female</td>\n",
       "      <td>75</td>\n",
       "      <td>5</td>\n",
       "      <td>1</td>\n",
       "      <td>27</td>\n",
       "      <td>4</td>\n",
       "      <td>70</td>\n",
       "      <td>6</td>\n",
       "      <td>18</td>\n",
       "      <td>...</td>\n",
       "      <td>No</td>\n",
       "      <td>No</td>\n",
       "      <td>Up</td>\n",
       "      <td>No</td>\n",
       "      <td>No</td>\n",
       "      <td>No</td>\n",
       "      <td>No</td>\n",
       "      <td>No</td>\n",
       "      <td>Ch</td>\n",
       "      <td>Yes</td>\n",
       "    </tr>\n",
       "    <tr>\n",
       "      <th>62690</th>\n",
       "      <td>Caucasian</td>\n",
       "      <td>Male</td>\n",
       "      <td>75</td>\n",
       "      <td>2</td>\n",
       "      <td>1</td>\n",
       "      <td>7</td>\n",
       "      <td>4</td>\n",
       "      <td>10</td>\n",
       "      <td>0</td>\n",
       "      <td>12</td>\n",
       "      <td>...</td>\n",
       "      <td>No</td>\n",
       "      <td>No</td>\n",
       "      <td>Steady</td>\n",
       "      <td>No</td>\n",
       "      <td>No</td>\n",
       "      <td>No</td>\n",
       "      <td>No</td>\n",
       "      <td>No</td>\n",
       "      <td>Ch</td>\n",
       "      <td>Yes</td>\n",
       "    </tr>\n",
       "  </tbody>\n",
       "</table>\n",
       "<p>5 rows × 44 columns</p>\n",
       "</div>"
      ],
      "text/plain": [
       "            race  gender  age  admission_type_id  discharge_disposition_id  \\\n",
       "8029   Caucasian  Female   55                  2                        31   \n",
       "34129  Caucasian    Male   75                  5                         3   \n",
       "10672  Caucasian  Female   85                  1                        31   \n",
       "56844  Caucasian  Female   75                  5                         1   \n",
       "62690  Caucasian    Male   75                  2                         1   \n",
       "\n",
       "       admission_source_id  time_in_hospital  num_lab_procedures  \\\n",
       "8029                     1                 8                  45   \n",
       "34129                   27                 3                   7   \n",
       "10672                    7                 6                  38   \n",
       "56844                   27                 4                  70   \n",
       "62690                    7                 4                  10   \n",
       "\n",
       "       num_procedures  num_medications  ...  examide  citoglipton  insulin  \\\n",
       "8029                0               16  ...       No           No   Steady   \n",
       "34129               2               29  ...       No           No       No   \n",
       "10672               0                8  ...       No           No       Up   \n",
       "56844               6               18  ...       No           No       Up   \n",
       "62690               0               12  ...       No           No   Steady   \n",
       "\n",
       "      glyburide-metformin glipizide-metformin glimepiride-pioglitazone  \\\n",
       "8029                   No                  No                       No   \n",
       "34129                  No                  No                       No   \n",
       "10672                  No                  No                       No   \n",
       "56844                  No                  No                       No   \n",
       "62690                  No                  No                       No   \n",
       "\n",
       "       metformin-rosiglitazone metformin-pioglitazone change diabetesMed  \n",
       "8029                        No                     No     Ch         Yes  \n",
       "34129                       No                     No     No          No  \n",
       "10672                       No                     No     Ch         Yes  \n",
       "56844                       No                     No     Ch         Yes  \n",
       "62690                       No                     No     Ch         Yes  \n",
       "\n",
       "[5 rows x 44 columns]"
      ]
     },
     "execution_count": 12,
     "metadata": {},
     "output_type": "execute_result"
    }
   ],
   "source": [
    "x_train.head()"
   ]
  },
  {
   "cell_type": "code",
   "execution_count": 13,
   "id": "b438328e",
   "metadata": {},
   "outputs": [
    {
     "data": {
      "text/plain": [
       "8029     0\n",
       "34129    0\n",
       "10672    1\n",
       "56844    1\n",
       "62690    1\n",
       "Name: readmitted, dtype: category\n",
       "Categories (2, int64): [1, 0]"
      ]
     },
     "execution_count": 13,
     "metadata": {},
     "output_type": "execute_result"
    }
   ],
   "source": [
    "y_train.head()"
   ]
  },
  {
   "cell_type": "code",
   "execution_count": 14,
   "id": "e9461e1b",
   "metadata": {},
   "outputs": [],
   "source": [
    "categorical_features = [feature for feature in x_train.columns[x_train.dtypes==\"category\"]]\n",
    "numerical_features = [feature for feature in diabetes_data.columns[diabetes_data.dtypes==\"int64\"]]"
   ]
  },
  {
   "cell_type": "code",
   "execution_count": 15,
   "id": "b7556626",
   "metadata": {},
   "outputs": [
    {
     "data": {
      "text/plain": [
       "['race',\n",
       " 'gender',\n",
       " 'diag_1',\n",
       " 'diag_2',\n",
       " 'diag_3',\n",
       " 'max_glu_serum',\n",
       " 'A1Cresult',\n",
       " 'metformin',\n",
       " 'repaglinide',\n",
       " 'nateglinide',\n",
       " 'chlorpropamide',\n",
       " 'glimepiride',\n",
       " 'acetohexamide',\n",
       " 'glipizide',\n",
       " 'glyburide',\n",
       " 'tolbutamide',\n",
       " 'pioglitazone',\n",
       " 'rosiglitazone',\n",
       " 'acarbose',\n",
       " 'miglitol',\n",
       " 'troglitazone',\n",
       " 'tolazamide',\n",
       " 'examide',\n",
       " 'citoglipton',\n",
       " 'insulin',\n",
       " 'glyburide-metformin',\n",
       " 'glipizide-metformin',\n",
       " 'glimepiride-pioglitazone',\n",
       " 'metformin-rosiglitazone',\n",
       " 'metformin-pioglitazone',\n",
       " 'change',\n",
       " 'diabetesMed']"
      ]
     },
     "execution_count": 15,
     "metadata": {},
     "output_type": "execute_result"
    }
   ],
   "source": [
    "categorical_features"
   ]
  },
  {
   "cell_type": "code",
   "execution_count": 16,
   "id": "e8a9378d",
   "metadata": {},
   "outputs": [
    {
     "name": "stdout",
     "output_type": "stream",
     "text": [
      "Length of 32 + 12 = 45\n"
     ]
    }
   ],
   "source": [
    "print(f\"Length of {len(categorical_features)} + {len(numerical_features)} = {len(diabetes_data.columns)}\")"
   ]
  },
  {
   "cell_type": "markdown",
   "id": "90b741b7",
   "metadata": {},
   "source": [
    "# Numerical and categorical pipeline\n"
   ]
  },
  {
   "cell_type": "code",
   "execution_count": 17,
   "id": "c2990104",
   "metadata": {},
   "outputs": [],
   "source": [
    "num_pipeline = Pipeline(steps= [\n",
    "                                (\"imputer\", SimpleImputer(strategy=\"mean\")),\n",
    "                                (\"scaler\", StandardScaler())\n",
    "                        \n",
    "])\n",
    "cat_pipeline = Pipeline(steps=[\n",
    "                                (\"imputer\",SimpleImputer(strategy=\"most_frequent\")),\n",
    "                                (\"one_hot_encode\", OneHotEncoder(drop=\"first\", sparse_output=False,handle_unknown='ignore'))\n",
    "])\n"
   ]
  },
  {
   "cell_type": "markdown",
   "id": "2fd77cd3",
   "metadata": {},
   "source": [
    "# Column transfer to combine pipeline"
   ]
  },
  {
   "cell_type": "code",
   "execution_count": 18,
   "id": "3fc74cec",
   "metadata": {},
   "outputs": [],
   "source": [
    "preprocessor = ColumnTransformer(\n",
    "                transformers = [ (\"number\", num_pipeline, numerical_features),\n",
    "                                (\"category\", cat_pipeline, categorical_features)\n",
    "                               ]\n",
    "                    \n",
    ")"
   ]
  },
  {
   "cell_type": "markdown",
   "id": "7e1e18bc",
   "metadata": {},
   "source": [
    "# bulild a model using Logistic regression"
   ]
  },
  {
   "cell_type": "code",
   "execution_count": 19,
   "id": "421da662",
   "metadata": {},
   "outputs": [],
   "source": [
    "log_reg_pipeline = Pipeline(steps=[(\"preprocessor\", preprocessor),(\"classifier\", LogisticRegression(max_iter=2000))\n",
    "                                  ])\n"
   ]
  },
  {
   "cell_type": "markdown",
   "id": "a4cf3dee",
   "metadata": {},
   "source": [
    "Now let us fit the pipeline on the data"
   ]
  },
  {
   "cell_type": "markdown",
   "id": "2db7e6de",
   "metadata": {},
   "source": [
    "# i first tried max iter = 1000 but it error out because the iteration was too small to reach a solution so\n",
    "#I doubled to iteration to 2000"
   ]
  },
  {
   "cell_type": "code",
   "execution_count": 20,
   "id": "a2a48e69",
   "metadata": {},
   "outputs": [
    {
     "data": {
      "text/html": [
       "<style>#sk-container-id-1 {color: black;}#sk-container-id-1 pre{padding: 0;}#sk-container-id-1 div.sk-toggleable {background-color: white;}#sk-container-id-1 label.sk-toggleable__label {cursor: pointer;display: block;width: 100%;margin-bottom: 0;padding: 0.3em;box-sizing: border-box;text-align: center;}#sk-container-id-1 label.sk-toggleable__label-arrow:before {content: \"▸\";float: left;margin-right: 0.25em;color: #696969;}#sk-container-id-1 label.sk-toggleable__label-arrow:hover:before {color: black;}#sk-container-id-1 div.sk-estimator:hover label.sk-toggleable__label-arrow:before {color: black;}#sk-container-id-1 div.sk-toggleable__content {max-height: 0;max-width: 0;overflow: hidden;text-align: left;background-color: #f0f8ff;}#sk-container-id-1 div.sk-toggleable__content pre {margin: 0.2em;color: black;border-radius: 0.25em;background-color: #f0f8ff;}#sk-container-id-1 input.sk-toggleable__control:checked~div.sk-toggleable__content {max-height: 200px;max-width: 100%;overflow: auto;}#sk-container-id-1 input.sk-toggleable__control:checked~label.sk-toggleable__label-arrow:before {content: \"▾\";}#sk-container-id-1 div.sk-estimator input.sk-toggleable__control:checked~label.sk-toggleable__label {background-color: #d4ebff;}#sk-container-id-1 div.sk-label input.sk-toggleable__control:checked~label.sk-toggleable__label {background-color: #d4ebff;}#sk-container-id-1 input.sk-hidden--visually {border: 0;clip: rect(1px 1px 1px 1px);clip: rect(1px, 1px, 1px, 1px);height: 1px;margin: -1px;overflow: hidden;padding: 0;position: absolute;width: 1px;}#sk-container-id-1 div.sk-estimator {font-family: monospace;background-color: #f0f8ff;border: 1px dotted black;border-radius: 0.25em;box-sizing: border-box;margin-bottom: 0.5em;}#sk-container-id-1 div.sk-estimator:hover {background-color: #d4ebff;}#sk-container-id-1 div.sk-parallel-item::after {content: \"\";width: 100%;border-bottom: 1px solid gray;flex-grow: 1;}#sk-container-id-1 div.sk-label:hover label.sk-toggleable__label {background-color: #d4ebff;}#sk-container-id-1 div.sk-serial::before {content: \"\";position: absolute;border-left: 1px solid gray;box-sizing: border-box;top: 0;bottom: 0;left: 50%;z-index: 0;}#sk-container-id-1 div.sk-serial {display: flex;flex-direction: column;align-items: center;background-color: white;padding-right: 0.2em;padding-left: 0.2em;position: relative;}#sk-container-id-1 div.sk-item {position: relative;z-index: 1;}#sk-container-id-1 div.sk-parallel {display: flex;align-items: stretch;justify-content: center;background-color: white;position: relative;}#sk-container-id-1 div.sk-item::before, #sk-container-id-1 div.sk-parallel-item::before {content: \"\";position: absolute;border-left: 1px solid gray;box-sizing: border-box;top: 0;bottom: 0;left: 50%;z-index: -1;}#sk-container-id-1 div.sk-parallel-item {display: flex;flex-direction: column;z-index: 1;position: relative;background-color: white;}#sk-container-id-1 div.sk-parallel-item:first-child::after {align-self: flex-end;width: 50%;}#sk-container-id-1 div.sk-parallel-item:last-child::after {align-self: flex-start;width: 50%;}#sk-container-id-1 div.sk-parallel-item:only-child::after {width: 0;}#sk-container-id-1 div.sk-dashed-wrapped {border: 1px dashed gray;margin: 0 0.4em 0.5em 0.4em;box-sizing: border-box;padding-bottom: 0.4em;background-color: white;}#sk-container-id-1 div.sk-label label {font-family: monospace;font-weight: bold;display: inline-block;line-height: 1.2em;}#sk-container-id-1 div.sk-label-container {text-align: center;}#sk-container-id-1 div.sk-container {/* jupyter's `normalize.less` sets `[hidden] { display: none; }` but bootstrap.min.css set `[hidden] { display: none !important; }` so we also need the `!important` here to be able to override the default hidden behavior on the sphinx rendered scikit-learn.org. See: https://github.com/scikit-learn/scikit-learn/issues/21755 */display: inline-block !important;position: relative;}#sk-container-id-1 div.sk-text-repr-fallback {display: none;}</style><div id=\"sk-container-id-1\" class=\"sk-top-container\"><div class=\"sk-text-repr-fallback\"><pre>Pipeline(steps=[(&#x27;preprocessor&#x27;,\n",
       "                 ColumnTransformer(transformers=[(&#x27;number&#x27;,\n",
       "                                                  Pipeline(steps=[(&#x27;imputer&#x27;,\n",
       "                                                                   SimpleImputer()),\n",
       "                                                                  (&#x27;scaler&#x27;,\n",
       "                                                                   StandardScaler())]),\n",
       "                                                  [&#x27;age&#x27;, &#x27;admission_type_id&#x27;,\n",
       "                                                   &#x27;discharge_disposition_id&#x27;,\n",
       "                                                   &#x27;admission_source_id&#x27;,\n",
       "                                                   &#x27;time_in_hospital&#x27;,\n",
       "                                                   &#x27;num_lab_procedures&#x27;,\n",
       "                                                   &#x27;num_procedures&#x27;,\n",
       "                                                   &#x27;num_medications&#x27;,\n",
       "                                                   &#x27;number_outpatient&#x27;,\n",
       "                                                   &#x27;number_emergency&#x27;,\n",
       "                                                   &#x27;number_inpa...\n",
       "                                                   &#x27;acetohexamide&#x27;, &#x27;glipizide&#x27;,\n",
       "                                                   &#x27;glyburide&#x27;, &#x27;tolbutamide&#x27;,\n",
       "                                                   &#x27;pioglitazone&#x27;,\n",
       "                                                   &#x27;rosiglitazone&#x27;, &#x27;acarbose&#x27;,\n",
       "                                                   &#x27;miglitol&#x27;, &#x27;troglitazone&#x27;,\n",
       "                                                   &#x27;tolazamide&#x27;, &#x27;examide&#x27;,\n",
       "                                                   &#x27;citoglipton&#x27;, &#x27;insulin&#x27;,\n",
       "                                                   &#x27;glyburide-metformin&#x27;,\n",
       "                                                   &#x27;glipizide-metformin&#x27;,\n",
       "                                                   &#x27;glimepiride-pioglitazone&#x27;,\n",
       "                                                   &#x27;metformin-rosiglitazone&#x27;,\n",
       "                                                   &#x27;metformin-pioglitazone&#x27;, ...])])),\n",
       "                (&#x27;classifier&#x27;, LogisticRegression(max_iter=2000))])</pre><b>In a Jupyter environment, please rerun this cell to show the HTML representation or trust the notebook. <br />On GitHub, the HTML representation is unable to render, please try loading this page with nbviewer.org.</b></div><div class=\"sk-container\" hidden><div class=\"sk-item sk-dashed-wrapped\"><div class=\"sk-label-container\"><div class=\"sk-label sk-toggleable\"><input class=\"sk-toggleable__control sk-hidden--visually\" id=\"sk-estimator-id-1\" type=\"checkbox\" ><label for=\"sk-estimator-id-1\" class=\"sk-toggleable__label sk-toggleable__label-arrow\">Pipeline</label><div class=\"sk-toggleable__content\"><pre>Pipeline(steps=[(&#x27;preprocessor&#x27;,\n",
       "                 ColumnTransformer(transformers=[(&#x27;number&#x27;,\n",
       "                                                  Pipeline(steps=[(&#x27;imputer&#x27;,\n",
       "                                                                   SimpleImputer()),\n",
       "                                                                  (&#x27;scaler&#x27;,\n",
       "                                                                   StandardScaler())]),\n",
       "                                                  [&#x27;age&#x27;, &#x27;admission_type_id&#x27;,\n",
       "                                                   &#x27;discharge_disposition_id&#x27;,\n",
       "                                                   &#x27;admission_source_id&#x27;,\n",
       "                                                   &#x27;time_in_hospital&#x27;,\n",
       "                                                   &#x27;num_lab_procedures&#x27;,\n",
       "                                                   &#x27;num_procedures&#x27;,\n",
       "                                                   &#x27;num_medications&#x27;,\n",
       "                                                   &#x27;number_outpatient&#x27;,\n",
       "                                                   &#x27;number_emergency&#x27;,\n",
       "                                                   &#x27;number_inpa...\n",
       "                                                   &#x27;acetohexamide&#x27;, &#x27;glipizide&#x27;,\n",
       "                                                   &#x27;glyburide&#x27;, &#x27;tolbutamide&#x27;,\n",
       "                                                   &#x27;pioglitazone&#x27;,\n",
       "                                                   &#x27;rosiglitazone&#x27;, &#x27;acarbose&#x27;,\n",
       "                                                   &#x27;miglitol&#x27;, &#x27;troglitazone&#x27;,\n",
       "                                                   &#x27;tolazamide&#x27;, &#x27;examide&#x27;,\n",
       "                                                   &#x27;citoglipton&#x27;, &#x27;insulin&#x27;,\n",
       "                                                   &#x27;glyburide-metformin&#x27;,\n",
       "                                                   &#x27;glipizide-metformin&#x27;,\n",
       "                                                   &#x27;glimepiride-pioglitazone&#x27;,\n",
       "                                                   &#x27;metformin-rosiglitazone&#x27;,\n",
       "                                                   &#x27;metformin-pioglitazone&#x27;, ...])])),\n",
       "                (&#x27;classifier&#x27;, LogisticRegression(max_iter=2000))])</pre></div></div></div><div class=\"sk-serial\"><div class=\"sk-item sk-dashed-wrapped\"><div class=\"sk-label-container\"><div class=\"sk-label sk-toggleable\"><input class=\"sk-toggleable__control sk-hidden--visually\" id=\"sk-estimator-id-2\" type=\"checkbox\" ><label for=\"sk-estimator-id-2\" class=\"sk-toggleable__label sk-toggleable__label-arrow\">preprocessor: ColumnTransformer</label><div class=\"sk-toggleable__content\"><pre>ColumnTransformer(transformers=[(&#x27;number&#x27;,\n",
       "                                 Pipeline(steps=[(&#x27;imputer&#x27;, SimpleImputer()),\n",
       "                                                 (&#x27;scaler&#x27;, StandardScaler())]),\n",
       "                                 [&#x27;age&#x27;, &#x27;admission_type_id&#x27;,\n",
       "                                  &#x27;discharge_disposition_id&#x27;,\n",
       "                                  &#x27;admission_source_id&#x27;, &#x27;time_in_hospital&#x27;,\n",
       "                                  &#x27;num_lab_procedures&#x27;, &#x27;num_procedures&#x27;,\n",
       "                                  &#x27;num_medications&#x27;, &#x27;number_outpatient&#x27;,\n",
       "                                  &#x27;number_emergency&#x27;, &#x27;number_inpatient&#x27;,\n",
       "                                  &#x27;number_diagnoses&#x27;]),\n",
       "                                (&#x27;ca...\n",
       "                                  &#x27;metformin&#x27;, &#x27;repaglinide&#x27;, &#x27;nateglinide&#x27;,\n",
       "                                  &#x27;chlorpropamide&#x27;, &#x27;glimepiride&#x27;,\n",
       "                                  &#x27;acetohexamide&#x27;, &#x27;glipizide&#x27;, &#x27;glyburide&#x27;,\n",
       "                                  &#x27;tolbutamide&#x27;, &#x27;pioglitazone&#x27;,\n",
       "                                  &#x27;rosiglitazone&#x27;, &#x27;acarbose&#x27;, &#x27;miglitol&#x27;,\n",
       "                                  &#x27;troglitazone&#x27;, &#x27;tolazamide&#x27;, &#x27;examide&#x27;,\n",
       "                                  &#x27;citoglipton&#x27;, &#x27;insulin&#x27;,\n",
       "                                  &#x27;glyburide-metformin&#x27;, &#x27;glipizide-metformin&#x27;,\n",
       "                                  &#x27;glimepiride-pioglitazone&#x27;,\n",
       "                                  &#x27;metformin-rosiglitazone&#x27;,\n",
       "                                  &#x27;metformin-pioglitazone&#x27;, ...])])</pre></div></div></div><div class=\"sk-parallel\"><div class=\"sk-parallel-item\"><div class=\"sk-item\"><div class=\"sk-label-container\"><div class=\"sk-label sk-toggleable\"><input class=\"sk-toggleable__control sk-hidden--visually\" id=\"sk-estimator-id-3\" type=\"checkbox\" ><label for=\"sk-estimator-id-3\" class=\"sk-toggleable__label sk-toggleable__label-arrow\">number</label><div class=\"sk-toggleable__content\"><pre>[&#x27;age&#x27;, &#x27;admission_type_id&#x27;, &#x27;discharge_disposition_id&#x27;, &#x27;admission_source_id&#x27;, &#x27;time_in_hospital&#x27;, &#x27;num_lab_procedures&#x27;, &#x27;num_procedures&#x27;, &#x27;num_medications&#x27;, &#x27;number_outpatient&#x27;, &#x27;number_emergency&#x27;, &#x27;number_inpatient&#x27;, &#x27;number_diagnoses&#x27;]</pre></div></div></div><div class=\"sk-serial\"><div class=\"sk-item\"><div class=\"sk-serial\"><div class=\"sk-item\"><div class=\"sk-estimator sk-toggleable\"><input class=\"sk-toggleable__control sk-hidden--visually\" id=\"sk-estimator-id-4\" type=\"checkbox\" ><label for=\"sk-estimator-id-4\" class=\"sk-toggleable__label sk-toggleable__label-arrow\">SimpleImputer</label><div class=\"sk-toggleable__content\"><pre>SimpleImputer()</pre></div></div></div><div class=\"sk-item\"><div class=\"sk-estimator sk-toggleable\"><input class=\"sk-toggleable__control sk-hidden--visually\" id=\"sk-estimator-id-5\" type=\"checkbox\" ><label for=\"sk-estimator-id-5\" class=\"sk-toggleable__label sk-toggleable__label-arrow\">StandardScaler</label><div class=\"sk-toggleable__content\"><pre>StandardScaler()</pre></div></div></div></div></div></div></div></div><div class=\"sk-parallel-item\"><div class=\"sk-item\"><div class=\"sk-label-container\"><div class=\"sk-label sk-toggleable\"><input class=\"sk-toggleable__control sk-hidden--visually\" id=\"sk-estimator-id-6\" type=\"checkbox\" ><label for=\"sk-estimator-id-6\" class=\"sk-toggleable__label sk-toggleable__label-arrow\">category</label><div class=\"sk-toggleable__content\"><pre>[&#x27;race&#x27;, &#x27;gender&#x27;, &#x27;diag_1&#x27;, &#x27;diag_2&#x27;, &#x27;diag_3&#x27;, &#x27;max_glu_serum&#x27;, &#x27;A1Cresult&#x27;, &#x27;metformin&#x27;, &#x27;repaglinide&#x27;, &#x27;nateglinide&#x27;, &#x27;chlorpropamide&#x27;, &#x27;glimepiride&#x27;, &#x27;acetohexamide&#x27;, &#x27;glipizide&#x27;, &#x27;glyburide&#x27;, &#x27;tolbutamide&#x27;, &#x27;pioglitazone&#x27;, &#x27;rosiglitazone&#x27;, &#x27;acarbose&#x27;, &#x27;miglitol&#x27;, &#x27;troglitazone&#x27;, &#x27;tolazamide&#x27;, &#x27;examide&#x27;, &#x27;citoglipton&#x27;, &#x27;insulin&#x27;, &#x27;glyburide-metformin&#x27;, &#x27;glipizide-metformin&#x27;, &#x27;glimepiride-pioglitazone&#x27;, &#x27;metformin-rosiglitazone&#x27;, &#x27;metformin-pioglitazone&#x27;, &#x27;change&#x27;, &#x27;diabetesMed&#x27;]</pre></div></div></div><div class=\"sk-serial\"><div class=\"sk-item\"><div class=\"sk-serial\"><div class=\"sk-item\"><div class=\"sk-estimator sk-toggleable\"><input class=\"sk-toggleable__control sk-hidden--visually\" id=\"sk-estimator-id-7\" type=\"checkbox\" ><label for=\"sk-estimator-id-7\" class=\"sk-toggleable__label sk-toggleable__label-arrow\">SimpleImputer</label><div class=\"sk-toggleable__content\"><pre>SimpleImputer(strategy=&#x27;most_frequent&#x27;)</pre></div></div></div><div class=\"sk-item\"><div class=\"sk-estimator sk-toggleable\"><input class=\"sk-toggleable__control sk-hidden--visually\" id=\"sk-estimator-id-8\" type=\"checkbox\" ><label for=\"sk-estimator-id-8\" class=\"sk-toggleable__label sk-toggleable__label-arrow\">OneHotEncoder</label><div class=\"sk-toggleable__content\"><pre>OneHotEncoder(drop=&#x27;first&#x27;, handle_unknown=&#x27;ignore&#x27;, sparse_output=False)</pre></div></div></div></div></div></div></div></div></div></div><div class=\"sk-item\"><div class=\"sk-estimator sk-toggleable\"><input class=\"sk-toggleable__control sk-hidden--visually\" id=\"sk-estimator-id-9\" type=\"checkbox\" ><label for=\"sk-estimator-id-9\" class=\"sk-toggleable__label sk-toggleable__label-arrow\">LogisticRegression</label><div class=\"sk-toggleable__content\"><pre>LogisticRegression(max_iter=2000)</pre></div></div></div></div></div></div></div>"
      ],
      "text/plain": [
       "Pipeline(steps=[('preprocessor',\n",
       "                 ColumnTransformer(transformers=[('number',\n",
       "                                                  Pipeline(steps=[('imputer',\n",
       "                                                                   SimpleImputer()),\n",
       "                                                                  ('scaler',\n",
       "                                                                   StandardScaler())]),\n",
       "                                                  ['age', 'admission_type_id',\n",
       "                                                   'discharge_disposition_id',\n",
       "                                                   'admission_source_id',\n",
       "                                                   'time_in_hospital',\n",
       "                                                   'num_lab_procedures',\n",
       "                                                   'num_procedures',\n",
       "                                                   'num_medications',\n",
       "                                                   'number_outpatient',\n",
       "                                                   'number_emergency',\n",
       "                                                   'number_inpa...\n",
       "                                                   'acetohexamide', 'glipizide',\n",
       "                                                   'glyburide', 'tolbutamide',\n",
       "                                                   'pioglitazone',\n",
       "                                                   'rosiglitazone', 'acarbose',\n",
       "                                                   'miglitol', 'troglitazone',\n",
       "                                                   'tolazamide', 'examide',\n",
       "                                                   'citoglipton', 'insulin',\n",
       "                                                   'glyburide-metformin',\n",
       "                                                   'glipizide-metformin',\n",
       "                                                   'glimepiride-pioglitazone',\n",
       "                                                   'metformin-rosiglitazone',\n",
       "                                                   'metformin-pioglitazone', ...])])),\n",
       "                ('classifier', LogisticRegression(max_iter=2000))])"
      ]
     },
     "execution_count": 20,
     "metadata": {},
     "output_type": "execute_result"
    }
   ],
   "source": [
    "log_reg_pipeline.fit(x_train, y_train)"
   ]
  },
  {
   "cell_type": "code",
   "execution_count": 21,
   "id": "a9e8d930",
   "metadata": {},
   "outputs": [
    {
     "name": "stderr",
     "output_type": "stream",
     "text": [
      "/Users/sagunshrestha/anaconda3/lib/python3.11/site-packages/sklearn/preprocessing/_encoders.py:227: UserWarning: Found unknown categories in columns [12, 18] during transform. These unknown categories will be encoded as all zeros\n",
      "  warnings.warn(\n"
     ]
    }
   ],
   "source": [
    "readmitanc_predict = log_reg_pipeline.predict(x_test)"
   ]
  },
  {
   "cell_type": "code",
   "execution_count": 22,
   "id": "9d3f4e1d",
   "metadata": {},
   "outputs": [
    {
     "name": "stdout",
     "output_type": "stream",
     "text": [
      "Report               precision    recall  f1-score   support\n",
      "\n",
      "           0       0.61      0.78      0.69     10474\n",
      "           1       0.63      0.44      0.52      9151\n",
      "\n",
      "    accuracy                           0.62     19625\n",
      "   macro avg       0.62      0.61      0.60     19625\n",
      "weighted avg       0.62      0.62      0.61     19625\n",
      "\n"
     ]
    }
   ],
   "source": [
    "print(f\"Report {classification_report(y_test, readmitanc_predict)}\")"
   ]
  },
  {
   "cell_type": "code",
   "execution_count": 23,
   "id": "59a06629",
   "metadata": {},
   "outputs": [
    {
     "name": "stdout",
     "output_type": "stream",
     "text": [
      "Accuracy is 0.6199235668789809\n"
     ]
    }
   ],
   "source": [
    "print(f\"Accuracy is {accuracy_score(y_test, readmitanc_predict)}\")"
   ]
  },
  {
   "cell_type": "code",
   "execution_count": 24,
   "id": "44533846",
   "metadata": {},
   "outputs": [
    {
     "data": {
      "text/plain": [
       "array([0, 0, 0, 0, 0, 0, 1, 0, 0, 1])"
      ]
     },
     "execution_count": 24,
     "metadata": {},
     "output_type": "execute_result"
    }
   ],
   "source": [
    "readmitanc_predict[45:55]"
   ]
  },
  {
   "cell_type": "code",
   "execution_count": 25,
   "id": "21ec2d03",
   "metadata": {},
   "outputs": [
    {
     "data": {
      "text/plain": [
       "32017    0\n",
       "74268    0\n",
       "21660    0\n",
       "18213    1\n",
       "3119     0\n",
       "38680    1\n",
       "40687    0\n",
       "56003    0\n",
       "83949    0\n",
       "4122     1\n",
       "Name: readmitted, dtype: category\n",
       "Categories (2, int64): [1, 0]"
      ]
     },
     "execution_count": 25,
     "metadata": {},
     "output_type": "execute_result"
    }
   ],
   "source": [
    "y_test[45:55]"
   ]
  },
  {
   "cell_type": "markdown",
   "id": "af00daeb",
   "metadata": {},
   "source": [
    "# Lets use Random Forest"
   ]
  },
  {
   "cell_type": "code",
   "execution_count": 26,
   "id": "d6472cfd",
   "metadata": {},
   "outputs": [
    {
     "data": {
      "text/html": [
       "<style>#sk-container-id-2 {color: black;}#sk-container-id-2 pre{padding: 0;}#sk-container-id-2 div.sk-toggleable {background-color: white;}#sk-container-id-2 label.sk-toggleable__label {cursor: pointer;display: block;width: 100%;margin-bottom: 0;padding: 0.3em;box-sizing: border-box;text-align: center;}#sk-container-id-2 label.sk-toggleable__label-arrow:before {content: \"▸\";float: left;margin-right: 0.25em;color: #696969;}#sk-container-id-2 label.sk-toggleable__label-arrow:hover:before {color: black;}#sk-container-id-2 div.sk-estimator:hover label.sk-toggleable__label-arrow:before {color: black;}#sk-container-id-2 div.sk-toggleable__content {max-height: 0;max-width: 0;overflow: hidden;text-align: left;background-color: #f0f8ff;}#sk-container-id-2 div.sk-toggleable__content pre {margin: 0.2em;color: black;border-radius: 0.25em;background-color: #f0f8ff;}#sk-container-id-2 input.sk-toggleable__control:checked~div.sk-toggleable__content {max-height: 200px;max-width: 100%;overflow: auto;}#sk-container-id-2 input.sk-toggleable__control:checked~label.sk-toggleable__label-arrow:before {content: \"▾\";}#sk-container-id-2 div.sk-estimator input.sk-toggleable__control:checked~label.sk-toggleable__label {background-color: #d4ebff;}#sk-container-id-2 div.sk-label input.sk-toggleable__control:checked~label.sk-toggleable__label {background-color: #d4ebff;}#sk-container-id-2 input.sk-hidden--visually {border: 0;clip: rect(1px 1px 1px 1px);clip: rect(1px, 1px, 1px, 1px);height: 1px;margin: -1px;overflow: hidden;padding: 0;position: absolute;width: 1px;}#sk-container-id-2 div.sk-estimator {font-family: monospace;background-color: #f0f8ff;border: 1px dotted black;border-radius: 0.25em;box-sizing: border-box;margin-bottom: 0.5em;}#sk-container-id-2 div.sk-estimator:hover {background-color: #d4ebff;}#sk-container-id-2 div.sk-parallel-item::after {content: \"\";width: 100%;border-bottom: 1px solid gray;flex-grow: 1;}#sk-container-id-2 div.sk-label:hover label.sk-toggleable__label {background-color: #d4ebff;}#sk-container-id-2 div.sk-serial::before {content: \"\";position: absolute;border-left: 1px solid gray;box-sizing: border-box;top: 0;bottom: 0;left: 50%;z-index: 0;}#sk-container-id-2 div.sk-serial {display: flex;flex-direction: column;align-items: center;background-color: white;padding-right: 0.2em;padding-left: 0.2em;position: relative;}#sk-container-id-2 div.sk-item {position: relative;z-index: 1;}#sk-container-id-2 div.sk-parallel {display: flex;align-items: stretch;justify-content: center;background-color: white;position: relative;}#sk-container-id-2 div.sk-item::before, #sk-container-id-2 div.sk-parallel-item::before {content: \"\";position: absolute;border-left: 1px solid gray;box-sizing: border-box;top: 0;bottom: 0;left: 50%;z-index: -1;}#sk-container-id-2 div.sk-parallel-item {display: flex;flex-direction: column;z-index: 1;position: relative;background-color: white;}#sk-container-id-2 div.sk-parallel-item:first-child::after {align-self: flex-end;width: 50%;}#sk-container-id-2 div.sk-parallel-item:last-child::after {align-self: flex-start;width: 50%;}#sk-container-id-2 div.sk-parallel-item:only-child::after {width: 0;}#sk-container-id-2 div.sk-dashed-wrapped {border: 1px dashed gray;margin: 0 0.4em 0.5em 0.4em;box-sizing: border-box;padding-bottom: 0.4em;background-color: white;}#sk-container-id-2 div.sk-label label {font-family: monospace;font-weight: bold;display: inline-block;line-height: 1.2em;}#sk-container-id-2 div.sk-label-container {text-align: center;}#sk-container-id-2 div.sk-container {/* jupyter's `normalize.less` sets `[hidden] { display: none; }` but bootstrap.min.css set `[hidden] { display: none !important; }` so we also need the `!important` here to be able to override the default hidden behavior on the sphinx rendered scikit-learn.org. See: https://github.com/scikit-learn/scikit-learn/issues/21755 */display: inline-block !important;position: relative;}#sk-container-id-2 div.sk-text-repr-fallback {display: none;}</style><div id=\"sk-container-id-2\" class=\"sk-top-container\"><div class=\"sk-text-repr-fallback\"><pre>Pipeline(steps=[(&#x27;preprocessor&#x27;,\n",
       "                 ColumnTransformer(transformers=[(&#x27;number&#x27;,\n",
       "                                                  Pipeline(steps=[(&#x27;imputer&#x27;,\n",
       "                                                                   SimpleImputer()),\n",
       "                                                                  (&#x27;scaler&#x27;,\n",
       "                                                                   StandardScaler())]),\n",
       "                                                  [&#x27;age&#x27;, &#x27;admission_type_id&#x27;,\n",
       "                                                   &#x27;discharge_disposition_id&#x27;,\n",
       "                                                   &#x27;admission_source_id&#x27;,\n",
       "                                                   &#x27;time_in_hospital&#x27;,\n",
       "                                                   &#x27;num_lab_procedures&#x27;,\n",
       "                                                   &#x27;num_procedures&#x27;,\n",
       "                                                   &#x27;num_medications&#x27;,\n",
       "                                                   &#x27;number_outpatient&#x27;,\n",
       "                                                   &#x27;number_emergency&#x27;,\n",
       "                                                   &#x27;number_inpa...\n",
       "                                                   &#x27;acetohexamide&#x27;, &#x27;glipizide&#x27;,\n",
       "                                                   &#x27;glyburide&#x27;, &#x27;tolbutamide&#x27;,\n",
       "                                                   &#x27;pioglitazone&#x27;,\n",
       "                                                   &#x27;rosiglitazone&#x27;, &#x27;acarbose&#x27;,\n",
       "                                                   &#x27;miglitol&#x27;, &#x27;troglitazone&#x27;,\n",
       "                                                   &#x27;tolazamide&#x27;, &#x27;examide&#x27;,\n",
       "                                                   &#x27;citoglipton&#x27;, &#x27;insulin&#x27;,\n",
       "                                                   &#x27;glyburide-metformin&#x27;,\n",
       "                                                   &#x27;glipizide-metformin&#x27;,\n",
       "                                                   &#x27;glimepiride-pioglitazone&#x27;,\n",
       "                                                   &#x27;metformin-rosiglitazone&#x27;,\n",
       "                                                   &#x27;metformin-pioglitazone&#x27;, ...])])),\n",
       "                (&#x27;classifier&#x27;, RandomForestClassifier(random_state=42))])</pre><b>In a Jupyter environment, please rerun this cell to show the HTML representation or trust the notebook. <br />On GitHub, the HTML representation is unable to render, please try loading this page with nbviewer.org.</b></div><div class=\"sk-container\" hidden><div class=\"sk-item sk-dashed-wrapped\"><div class=\"sk-label-container\"><div class=\"sk-label sk-toggleable\"><input class=\"sk-toggleable__control sk-hidden--visually\" id=\"sk-estimator-id-10\" type=\"checkbox\" ><label for=\"sk-estimator-id-10\" class=\"sk-toggleable__label sk-toggleable__label-arrow\">Pipeline</label><div class=\"sk-toggleable__content\"><pre>Pipeline(steps=[(&#x27;preprocessor&#x27;,\n",
       "                 ColumnTransformer(transformers=[(&#x27;number&#x27;,\n",
       "                                                  Pipeline(steps=[(&#x27;imputer&#x27;,\n",
       "                                                                   SimpleImputer()),\n",
       "                                                                  (&#x27;scaler&#x27;,\n",
       "                                                                   StandardScaler())]),\n",
       "                                                  [&#x27;age&#x27;, &#x27;admission_type_id&#x27;,\n",
       "                                                   &#x27;discharge_disposition_id&#x27;,\n",
       "                                                   &#x27;admission_source_id&#x27;,\n",
       "                                                   &#x27;time_in_hospital&#x27;,\n",
       "                                                   &#x27;num_lab_procedures&#x27;,\n",
       "                                                   &#x27;num_procedures&#x27;,\n",
       "                                                   &#x27;num_medications&#x27;,\n",
       "                                                   &#x27;number_outpatient&#x27;,\n",
       "                                                   &#x27;number_emergency&#x27;,\n",
       "                                                   &#x27;number_inpa...\n",
       "                                                   &#x27;acetohexamide&#x27;, &#x27;glipizide&#x27;,\n",
       "                                                   &#x27;glyburide&#x27;, &#x27;tolbutamide&#x27;,\n",
       "                                                   &#x27;pioglitazone&#x27;,\n",
       "                                                   &#x27;rosiglitazone&#x27;, &#x27;acarbose&#x27;,\n",
       "                                                   &#x27;miglitol&#x27;, &#x27;troglitazone&#x27;,\n",
       "                                                   &#x27;tolazamide&#x27;, &#x27;examide&#x27;,\n",
       "                                                   &#x27;citoglipton&#x27;, &#x27;insulin&#x27;,\n",
       "                                                   &#x27;glyburide-metformin&#x27;,\n",
       "                                                   &#x27;glipizide-metformin&#x27;,\n",
       "                                                   &#x27;glimepiride-pioglitazone&#x27;,\n",
       "                                                   &#x27;metformin-rosiglitazone&#x27;,\n",
       "                                                   &#x27;metformin-pioglitazone&#x27;, ...])])),\n",
       "                (&#x27;classifier&#x27;, RandomForestClassifier(random_state=42))])</pre></div></div></div><div class=\"sk-serial\"><div class=\"sk-item sk-dashed-wrapped\"><div class=\"sk-label-container\"><div class=\"sk-label sk-toggleable\"><input class=\"sk-toggleable__control sk-hidden--visually\" id=\"sk-estimator-id-11\" type=\"checkbox\" ><label for=\"sk-estimator-id-11\" class=\"sk-toggleable__label sk-toggleable__label-arrow\">preprocessor: ColumnTransformer</label><div class=\"sk-toggleable__content\"><pre>ColumnTransformer(transformers=[(&#x27;number&#x27;,\n",
       "                                 Pipeline(steps=[(&#x27;imputer&#x27;, SimpleImputer()),\n",
       "                                                 (&#x27;scaler&#x27;, StandardScaler())]),\n",
       "                                 [&#x27;age&#x27;, &#x27;admission_type_id&#x27;,\n",
       "                                  &#x27;discharge_disposition_id&#x27;,\n",
       "                                  &#x27;admission_source_id&#x27;, &#x27;time_in_hospital&#x27;,\n",
       "                                  &#x27;num_lab_procedures&#x27;, &#x27;num_procedures&#x27;,\n",
       "                                  &#x27;num_medications&#x27;, &#x27;number_outpatient&#x27;,\n",
       "                                  &#x27;number_emergency&#x27;, &#x27;number_inpatient&#x27;,\n",
       "                                  &#x27;number_diagnoses&#x27;]),\n",
       "                                (&#x27;ca...\n",
       "                                  &#x27;metformin&#x27;, &#x27;repaglinide&#x27;, &#x27;nateglinide&#x27;,\n",
       "                                  &#x27;chlorpropamide&#x27;, &#x27;glimepiride&#x27;,\n",
       "                                  &#x27;acetohexamide&#x27;, &#x27;glipizide&#x27;, &#x27;glyburide&#x27;,\n",
       "                                  &#x27;tolbutamide&#x27;, &#x27;pioglitazone&#x27;,\n",
       "                                  &#x27;rosiglitazone&#x27;, &#x27;acarbose&#x27;, &#x27;miglitol&#x27;,\n",
       "                                  &#x27;troglitazone&#x27;, &#x27;tolazamide&#x27;, &#x27;examide&#x27;,\n",
       "                                  &#x27;citoglipton&#x27;, &#x27;insulin&#x27;,\n",
       "                                  &#x27;glyburide-metformin&#x27;, &#x27;glipizide-metformin&#x27;,\n",
       "                                  &#x27;glimepiride-pioglitazone&#x27;,\n",
       "                                  &#x27;metformin-rosiglitazone&#x27;,\n",
       "                                  &#x27;metformin-pioglitazone&#x27;, ...])])</pre></div></div></div><div class=\"sk-parallel\"><div class=\"sk-parallel-item\"><div class=\"sk-item\"><div class=\"sk-label-container\"><div class=\"sk-label sk-toggleable\"><input class=\"sk-toggleable__control sk-hidden--visually\" id=\"sk-estimator-id-12\" type=\"checkbox\" ><label for=\"sk-estimator-id-12\" class=\"sk-toggleable__label sk-toggleable__label-arrow\">number</label><div class=\"sk-toggleable__content\"><pre>[&#x27;age&#x27;, &#x27;admission_type_id&#x27;, &#x27;discharge_disposition_id&#x27;, &#x27;admission_source_id&#x27;, &#x27;time_in_hospital&#x27;, &#x27;num_lab_procedures&#x27;, &#x27;num_procedures&#x27;, &#x27;num_medications&#x27;, &#x27;number_outpatient&#x27;, &#x27;number_emergency&#x27;, &#x27;number_inpatient&#x27;, &#x27;number_diagnoses&#x27;]</pre></div></div></div><div class=\"sk-serial\"><div class=\"sk-item\"><div class=\"sk-serial\"><div class=\"sk-item\"><div class=\"sk-estimator sk-toggleable\"><input class=\"sk-toggleable__control sk-hidden--visually\" id=\"sk-estimator-id-13\" type=\"checkbox\" ><label for=\"sk-estimator-id-13\" class=\"sk-toggleable__label sk-toggleable__label-arrow\">SimpleImputer</label><div class=\"sk-toggleable__content\"><pre>SimpleImputer()</pre></div></div></div><div class=\"sk-item\"><div class=\"sk-estimator sk-toggleable\"><input class=\"sk-toggleable__control sk-hidden--visually\" id=\"sk-estimator-id-14\" type=\"checkbox\" ><label for=\"sk-estimator-id-14\" class=\"sk-toggleable__label sk-toggleable__label-arrow\">StandardScaler</label><div class=\"sk-toggleable__content\"><pre>StandardScaler()</pre></div></div></div></div></div></div></div></div><div class=\"sk-parallel-item\"><div class=\"sk-item\"><div class=\"sk-label-container\"><div class=\"sk-label sk-toggleable\"><input class=\"sk-toggleable__control sk-hidden--visually\" id=\"sk-estimator-id-15\" type=\"checkbox\" ><label for=\"sk-estimator-id-15\" class=\"sk-toggleable__label sk-toggleable__label-arrow\">category</label><div class=\"sk-toggleable__content\"><pre>[&#x27;race&#x27;, &#x27;gender&#x27;, &#x27;diag_1&#x27;, &#x27;diag_2&#x27;, &#x27;diag_3&#x27;, &#x27;max_glu_serum&#x27;, &#x27;A1Cresult&#x27;, &#x27;metformin&#x27;, &#x27;repaglinide&#x27;, &#x27;nateglinide&#x27;, &#x27;chlorpropamide&#x27;, &#x27;glimepiride&#x27;, &#x27;acetohexamide&#x27;, &#x27;glipizide&#x27;, &#x27;glyburide&#x27;, &#x27;tolbutamide&#x27;, &#x27;pioglitazone&#x27;, &#x27;rosiglitazone&#x27;, &#x27;acarbose&#x27;, &#x27;miglitol&#x27;, &#x27;troglitazone&#x27;, &#x27;tolazamide&#x27;, &#x27;examide&#x27;, &#x27;citoglipton&#x27;, &#x27;insulin&#x27;, &#x27;glyburide-metformin&#x27;, &#x27;glipizide-metformin&#x27;, &#x27;glimepiride-pioglitazone&#x27;, &#x27;metformin-rosiglitazone&#x27;, &#x27;metformin-pioglitazone&#x27;, &#x27;change&#x27;, &#x27;diabetesMed&#x27;]</pre></div></div></div><div class=\"sk-serial\"><div class=\"sk-item\"><div class=\"sk-serial\"><div class=\"sk-item\"><div class=\"sk-estimator sk-toggleable\"><input class=\"sk-toggleable__control sk-hidden--visually\" id=\"sk-estimator-id-16\" type=\"checkbox\" ><label for=\"sk-estimator-id-16\" class=\"sk-toggleable__label sk-toggleable__label-arrow\">SimpleImputer</label><div class=\"sk-toggleable__content\"><pre>SimpleImputer(strategy=&#x27;most_frequent&#x27;)</pre></div></div></div><div class=\"sk-item\"><div class=\"sk-estimator sk-toggleable\"><input class=\"sk-toggleable__control sk-hidden--visually\" id=\"sk-estimator-id-17\" type=\"checkbox\" ><label for=\"sk-estimator-id-17\" class=\"sk-toggleable__label sk-toggleable__label-arrow\">OneHotEncoder</label><div class=\"sk-toggleable__content\"><pre>OneHotEncoder(drop=&#x27;first&#x27;, handle_unknown=&#x27;ignore&#x27;, sparse_output=False)</pre></div></div></div></div></div></div></div></div></div></div><div class=\"sk-item\"><div class=\"sk-estimator sk-toggleable\"><input class=\"sk-toggleable__control sk-hidden--visually\" id=\"sk-estimator-id-18\" type=\"checkbox\" ><label for=\"sk-estimator-id-18\" class=\"sk-toggleable__label sk-toggleable__label-arrow\">RandomForestClassifier</label><div class=\"sk-toggleable__content\"><pre>RandomForestClassifier(random_state=42)</pre></div></div></div></div></div></div></div>"
      ],
      "text/plain": [
       "Pipeline(steps=[('preprocessor',\n",
       "                 ColumnTransformer(transformers=[('number',\n",
       "                                                  Pipeline(steps=[('imputer',\n",
       "                                                                   SimpleImputer()),\n",
       "                                                                  ('scaler',\n",
       "                                                                   StandardScaler())]),\n",
       "                                                  ['age', 'admission_type_id',\n",
       "                                                   'discharge_disposition_id',\n",
       "                                                   'admission_source_id',\n",
       "                                                   'time_in_hospital',\n",
       "                                                   'num_lab_procedures',\n",
       "                                                   'num_procedures',\n",
       "                                                   'num_medications',\n",
       "                                                   'number_outpatient',\n",
       "                                                   'number_emergency',\n",
       "                                                   'number_inpa...\n",
       "                                                   'acetohexamide', 'glipizide',\n",
       "                                                   'glyburide', 'tolbutamide',\n",
       "                                                   'pioglitazone',\n",
       "                                                   'rosiglitazone', 'acarbose',\n",
       "                                                   'miglitol', 'troglitazone',\n",
       "                                                   'tolazamide', 'examide',\n",
       "                                                   'citoglipton', 'insulin',\n",
       "                                                   'glyburide-metformin',\n",
       "                                                   'glipizide-metformin',\n",
       "                                                   'glimepiride-pioglitazone',\n",
       "                                                   'metformin-rosiglitazone',\n",
       "                                                   'metformin-pioglitazone', ...])])),\n",
       "                ('classifier', RandomForestClassifier(random_state=42))])"
      ]
     },
     "execution_count": 26,
     "metadata": {},
     "output_type": "execute_result"
    }
   ],
   "source": [
    "\n",
    "random_forest_pipeline = Pipeline(steps=[(\"preprocessor\", preprocessor),(\"classifier\", RandomForestClassifier(random_state=42))\n",
    "                                  ])\n",
    "random_forest_pipeline.fit(x_train, y_train)\n"
   ]
  },
  {
   "cell_type": "code",
   "execution_count": 27,
   "id": "fe603a19",
   "metadata": {},
   "outputs": [
    {
     "name": "stderr",
     "output_type": "stream",
     "text": [
      "/Users/sagunshrestha/anaconda3/lib/python3.11/site-packages/sklearn/preprocessing/_encoders.py:227: UserWarning: Found unknown categories in columns [12, 18] during transform. These unknown categories will be encoded as all zeros\n",
      "  warnings.warn(\n"
     ]
    }
   ],
   "source": [
    "# Now predicting\n",
    "readmitanc_predict_rf = random_forest_pipeline.predict(x_test)"
   ]
  },
  {
   "cell_type": "code",
   "execution_count": 28,
   "id": "e742c3d4",
   "metadata": {},
   "outputs": [
    {
     "name": "stdout",
     "output_type": "stream",
     "text": [
      "Accuracy is 0.6289426751592356\n"
     ]
    }
   ],
   "source": [
    "print(f\"Accuracy is {accuracy_score(y_test, readmitanc_predict_rf)}\")"
   ]
  },
  {
   "cell_type": "code",
   "execution_count": 29,
   "id": "0d18549e",
   "metadata": {},
   "outputs": [
    {
     "name": "stdout",
     "output_type": "stream",
     "text": [
      "Report               precision    recall  f1-score   support\n",
      "\n",
      "           0       0.63      0.72      0.67     10474\n",
      "           1       0.62      0.52      0.57      9151\n",
      "\n",
      "    accuracy                           0.63     19625\n",
      "   macro avg       0.63      0.62      0.62     19625\n",
      "weighted avg       0.63      0.63      0.63     19625\n",
      "\n"
     ]
    }
   ],
   "source": [
    "print(f\"Report {classification_report(y_test, readmitanc_predict_rf)}\")"
   ]
  },
  {
   "cell_type": "markdown",
   "id": "a71bb6c8",
   "metadata": {},
   "source": [
    "#using class_weight parameter to give more wieght to the minority class and see the difference"
   ]
  },
  {
   "cell_type": "code",
   "execution_count": 30,
   "id": "917911f2",
   "metadata": {},
   "outputs": [],
   "source": [
    "rand_forest_cw_included = RandomForestClassifier(class_weight=\"balanced\",random_state=42)\n",
    "random_forest_pipeline = Pipeline(steps=[(\"preprocessor\", preprocessor),\n",
    "                                         (\"classifier\", rand_forest_cw_included)])\n"
   ]
  },
  {
   "cell_type": "code",
   "execution_count": 31,
   "id": "e74e461a",
   "metadata": {},
   "outputs": [
    {
     "name": "stderr",
     "output_type": "stream",
     "text": [
      "/Users/sagunshrestha/anaconda3/lib/python3.11/site-packages/sklearn/preprocessing/_encoders.py:227: UserWarning: Found unknown categories in columns [12, 18] during transform. These unknown categories will be encoded as all zeros\n",
      "  warnings.warn(\n"
     ]
    }
   ],
   "source": [
    "random_forest_pipeline.fit(x_train,y_train)\n",
    "predict_random_forest = random_forest_pipeline.predict(x_test)"
   ]
  },
  {
   "cell_type": "code",
   "execution_count": 32,
   "id": "40106f0b",
   "metadata": {},
   "outputs": [
    {
     "name": "stdout",
     "output_type": "stream",
     "text": [
      "Accuracy is 0.6305732484076433\n"
     ]
    }
   ],
   "source": [
    "print(f\"Accuracy is {accuracy_score(y_test, predict_random_forest)}\")"
   ]
  },
  {
   "cell_type": "code",
   "execution_count": 33,
   "id": "ae276d7a",
   "metadata": {},
   "outputs": [
    {
     "name": "stdout",
     "output_type": "stream",
     "text": [
      "Report               precision    recall  f1-score   support\n",
      "\n",
      "           0       0.63      0.73      0.68     10474\n",
      "           1       0.63      0.51      0.57      9151\n",
      "\n",
      "    accuracy                           0.63     19625\n",
      "   macro avg       0.63      0.62      0.62     19625\n",
      "weighted avg       0.63      0.63      0.63     19625\n",
      "\n"
     ]
    }
   ],
   "source": [
    "print(f\"Report {classification_report(y_test, predict_random_forest)}\")"
   ]
  },
  {
   "cell_type": "code",
   "execution_count": 34,
   "id": "8597aa0c",
   "metadata": {},
   "outputs": [],
   "source": [
    "# XGBClassifier boost Pipeline\n",
    "xgb_pipeline = Pipeline(steps=[\n",
    "    (\"preprocessor\", preprocessor),\n",
    "    (\"classifier\", XGBClassifier(use_label_encoder=False, eval_metric=\"mlogloss\", random_state=42))\n",
    "])\n",
    "\n"
   ]
  },
  {
   "cell_type": "code",
   "execution_count": 35,
   "id": "d2b2cd55",
   "metadata": {},
   "outputs": [
    {
     "name": "stderr",
     "output_type": "stream",
     "text": [
      "/Users/sagunshrestha/anaconda3/lib/python3.11/site-packages/xgboost/training.py:183: UserWarning: [13:15:14] WARNING: /Users/runner/work/xgboost/xgboost/src/learner.cc:738: \n",
      "Parameters: { \"use_label_encoder\" } are not used.\n",
      "\n",
      "  bst.update(dtrain, iteration=i, fobj=obj)\n"
     ]
    },
    {
     "data": {
      "text/html": [
       "<style>#sk-container-id-3 {color: black;}#sk-container-id-3 pre{padding: 0;}#sk-container-id-3 div.sk-toggleable {background-color: white;}#sk-container-id-3 label.sk-toggleable__label {cursor: pointer;display: block;width: 100%;margin-bottom: 0;padding: 0.3em;box-sizing: border-box;text-align: center;}#sk-container-id-3 label.sk-toggleable__label-arrow:before {content: \"▸\";float: left;margin-right: 0.25em;color: #696969;}#sk-container-id-3 label.sk-toggleable__label-arrow:hover:before {color: black;}#sk-container-id-3 div.sk-estimator:hover label.sk-toggleable__label-arrow:before {color: black;}#sk-container-id-3 div.sk-toggleable__content {max-height: 0;max-width: 0;overflow: hidden;text-align: left;background-color: #f0f8ff;}#sk-container-id-3 div.sk-toggleable__content pre {margin: 0.2em;color: black;border-radius: 0.25em;background-color: #f0f8ff;}#sk-container-id-3 input.sk-toggleable__control:checked~div.sk-toggleable__content {max-height: 200px;max-width: 100%;overflow: auto;}#sk-container-id-3 input.sk-toggleable__control:checked~label.sk-toggleable__label-arrow:before {content: \"▾\";}#sk-container-id-3 div.sk-estimator input.sk-toggleable__control:checked~label.sk-toggleable__label {background-color: #d4ebff;}#sk-container-id-3 div.sk-label input.sk-toggleable__control:checked~label.sk-toggleable__label {background-color: #d4ebff;}#sk-container-id-3 input.sk-hidden--visually {border: 0;clip: rect(1px 1px 1px 1px);clip: rect(1px, 1px, 1px, 1px);height: 1px;margin: -1px;overflow: hidden;padding: 0;position: absolute;width: 1px;}#sk-container-id-3 div.sk-estimator {font-family: monospace;background-color: #f0f8ff;border: 1px dotted black;border-radius: 0.25em;box-sizing: border-box;margin-bottom: 0.5em;}#sk-container-id-3 div.sk-estimator:hover {background-color: #d4ebff;}#sk-container-id-3 div.sk-parallel-item::after {content: \"\";width: 100%;border-bottom: 1px solid gray;flex-grow: 1;}#sk-container-id-3 div.sk-label:hover label.sk-toggleable__label {background-color: #d4ebff;}#sk-container-id-3 div.sk-serial::before {content: \"\";position: absolute;border-left: 1px solid gray;box-sizing: border-box;top: 0;bottom: 0;left: 50%;z-index: 0;}#sk-container-id-3 div.sk-serial {display: flex;flex-direction: column;align-items: center;background-color: white;padding-right: 0.2em;padding-left: 0.2em;position: relative;}#sk-container-id-3 div.sk-item {position: relative;z-index: 1;}#sk-container-id-3 div.sk-parallel {display: flex;align-items: stretch;justify-content: center;background-color: white;position: relative;}#sk-container-id-3 div.sk-item::before, #sk-container-id-3 div.sk-parallel-item::before {content: \"\";position: absolute;border-left: 1px solid gray;box-sizing: border-box;top: 0;bottom: 0;left: 50%;z-index: -1;}#sk-container-id-3 div.sk-parallel-item {display: flex;flex-direction: column;z-index: 1;position: relative;background-color: white;}#sk-container-id-3 div.sk-parallel-item:first-child::after {align-self: flex-end;width: 50%;}#sk-container-id-3 div.sk-parallel-item:last-child::after {align-self: flex-start;width: 50%;}#sk-container-id-3 div.sk-parallel-item:only-child::after {width: 0;}#sk-container-id-3 div.sk-dashed-wrapped {border: 1px dashed gray;margin: 0 0.4em 0.5em 0.4em;box-sizing: border-box;padding-bottom: 0.4em;background-color: white;}#sk-container-id-3 div.sk-label label {font-family: monospace;font-weight: bold;display: inline-block;line-height: 1.2em;}#sk-container-id-3 div.sk-label-container {text-align: center;}#sk-container-id-3 div.sk-container {/* jupyter's `normalize.less` sets `[hidden] { display: none; }` but bootstrap.min.css set `[hidden] { display: none !important; }` so we also need the `!important` here to be able to override the default hidden behavior on the sphinx rendered scikit-learn.org. See: https://github.com/scikit-learn/scikit-learn/issues/21755 */display: inline-block !important;position: relative;}#sk-container-id-3 div.sk-text-repr-fallback {display: none;}</style><div id=\"sk-container-id-3\" class=\"sk-top-container\"><div class=\"sk-text-repr-fallback\"><pre>Pipeline(steps=[(&#x27;preprocessor&#x27;,\n",
       "                 ColumnTransformer(transformers=[(&#x27;number&#x27;,\n",
       "                                                  Pipeline(steps=[(&#x27;imputer&#x27;,\n",
       "                                                                   SimpleImputer()),\n",
       "                                                                  (&#x27;scaler&#x27;,\n",
       "                                                                   StandardScaler())]),\n",
       "                                                  [&#x27;age&#x27;, &#x27;admission_type_id&#x27;,\n",
       "                                                   &#x27;discharge_disposition_id&#x27;,\n",
       "                                                   &#x27;admission_source_id&#x27;,\n",
       "                                                   &#x27;time_in_hospital&#x27;,\n",
       "                                                   &#x27;num_lab_procedures&#x27;,\n",
       "                                                   &#x27;num_procedures&#x27;,\n",
       "                                                   &#x27;num_medications&#x27;,\n",
       "                                                   &#x27;number_outpatient&#x27;,\n",
       "                                                   &#x27;number_emergency&#x27;,\n",
       "                                                   &#x27;number_inpa...\n",
       "                               feature_types=None, feature_weights=None,\n",
       "                               gamma=None, grow_policy=None,\n",
       "                               importance_type=None,\n",
       "                               interaction_constraints=None, learning_rate=None,\n",
       "                               max_bin=None, max_cat_threshold=None,\n",
       "                               max_cat_to_onehot=None, max_delta_step=None,\n",
       "                               max_depth=None, max_leaves=None,\n",
       "                               min_child_weight=None, missing=nan,\n",
       "                               monotone_constraints=None, multi_strategy=None,\n",
       "                               n_estimators=None, n_jobs=None,\n",
       "                               num_parallel_tree=None, ...))])</pre><b>In a Jupyter environment, please rerun this cell to show the HTML representation or trust the notebook. <br />On GitHub, the HTML representation is unable to render, please try loading this page with nbviewer.org.</b></div><div class=\"sk-container\" hidden><div class=\"sk-item sk-dashed-wrapped\"><div class=\"sk-label-container\"><div class=\"sk-label sk-toggleable\"><input class=\"sk-toggleable__control sk-hidden--visually\" id=\"sk-estimator-id-19\" type=\"checkbox\" ><label for=\"sk-estimator-id-19\" class=\"sk-toggleable__label sk-toggleable__label-arrow\">Pipeline</label><div class=\"sk-toggleable__content\"><pre>Pipeline(steps=[(&#x27;preprocessor&#x27;,\n",
       "                 ColumnTransformer(transformers=[(&#x27;number&#x27;,\n",
       "                                                  Pipeline(steps=[(&#x27;imputer&#x27;,\n",
       "                                                                   SimpleImputer()),\n",
       "                                                                  (&#x27;scaler&#x27;,\n",
       "                                                                   StandardScaler())]),\n",
       "                                                  [&#x27;age&#x27;, &#x27;admission_type_id&#x27;,\n",
       "                                                   &#x27;discharge_disposition_id&#x27;,\n",
       "                                                   &#x27;admission_source_id&#x27;,\n",
       "                                                   &#x27;time_in_hospital&#x27;,\n",
       "                                                   &#x27;num_lab_procedures&#x27;,\n",
       "                                                   &#x27;num_procedures&#x27;,\n",
       "                                                   &#x27;num_medications&#x27;,\n",
       "                                                   &#x27;number_outpatient&#x27;,\n",
       "                                                   &#x27;number_emergency&#x27;,\n",
       "                                                   &#x27;number_inpa...\n",
       "                               feature_types=None, feature_weights=None,\n",
       "                               gamma=None, grow_policy=None,\n",
       "                               importance_type=None,\n",
       "                               interaction_constraints=None, learning_rate=None,\n",
       "                               max_bin=None, max_cat_threshold=None,\n",
       "                               max_cat_to_onehot=None, max_delta_step=None,\n",
       "                               max_depth=None, max_leaves=None,\n",
       "                               min_child_weight=None, missing=nan,\n",
       "                               monotone_constraints=None, multi_strategy=None,\n",
       "                               n_estimators=None, n_jobs=None,\n",
       "                               num_parallel_tree=None, ...))])</pre></div></div></div><div class=\"sk-serial\"><div class=\"sk-item sk-dashed-wrapped\"><div class=\"sk-label-container\"><div class=\"sk-label sk-toggleable\"><input class=\"sk-toggleable__control sk-hidden--visually\" id=\"sk-estimator-id-20\" type=\"checkbox\" ><label for=\"sk-estimator-id-20\" class=\"sk-toggleable__label sk-toggleable__label-arrow\">preprocessor: ColumnTransformer</label><div class=\"sk-toggleable__content\"><pre>ColumnTransformer(transformers=[(&#x27;number&#x27;,\n",
       "                                 Pipeline(steps=[(&#x27;imputer&#x27;, SimpleImputer()),\n",
       "                                                 (&#x27;scaler&#x27;, StandardScaler())]),\n",
       "                                 [&#x27;age&#x27;, &#x27;admission_type_id&#x27;,\n",
       "                                  &#x27;discharge_disposition_id&#x27;,\n",
       "                                  &#x27;admission_source_id&#x27;, &#x27;time_in_hospital&#x27;,\n",
       "                                  &#x27;num_lab_procedures&#x27;, &#x27;num_procedures&#x27;,\n",
       "                                  &#x27;num_medications&#x27;, &#x27;number_outpatient&#x27;,\n",
       "                                  &#x27;number_emergency&#x27;, &#x27;number_inpatient&#x27;,\n",
       "                                  &#x27;number_diagnoses&#x27;]),\n",
       "                                (&#x27;ca...\n",
       "                                  &#x27;metformin&#x27;, &#x27;repaglinide&#x27;, &#x27;nateglinide&#x27;,\n",
       "                                  &#x27;chlorpropamide&#x27;, &#x27;glimepiride&#x27;,\n",
       "                                  &#x27;acetohexamide&#x27;, &#x27;glipizide&#x27;, &#x27;glyburide&#x27;,\n",
       "                                  &#x27;tolbutamide&#x27;, &#x27;pioglitazone&#x27;,\n",
       "                                  &#x27;rosiglitazone&#x27;, &#x27;acarbose&#x27;, &#x27;miglitol&#x27;,\n",
       "                                  &#x27;troglitazone&#x27;, &#x27;tolazamide&#x27;, &#x27;examide&#x27;,\n",
       "                                  &#x27;citoglipton&#x27;, &#x27;insulin&#x27;,\n",
       "                                  &#x27;glyburide-metformin&#x27;, &#x27;glipizide-metformin&#x27;,\n",
       "                                  &#x27;glimepiride-pioglitazone&#x27;,\n",
       "                                  &#x27;metformin-rosiglitazone&#x27;,\n",
       "                                  &#x27;metformin-pioglitazone&#x27;, ...])])</pre></div></div></div><div class=\"sk-parallel\"><div class=\"sk-parallel-item\"><div class=\"sk-item\"><div class=\"sk-label-container\"><div class=\"sk-label sk-toggleable\"><input class=\"sk-toggleable__control sk-hidden--visually\" id=\"sk-estimator-id-21\" type=\"checkbox\" ><label for=\"sk-estimator-id-21\" class=\"sk-toggleable__label sk-toggleable__label-arrow\">number</label><div class=\"sk-toggleable__content\"><pre>[&#x27;age&#x27;, &#x27;admission_type_id&#x27;, &#x27;discharge_disposition_id&#x27;, &#x27;admission_source_id&#x27;, &#x27;time_in_hospital&#x27;, &#x27;num_lab_procedures&#x27;, &#x27;num_procedures&#x27;, &#x27;num_medications&#x27;, &#x27;number_outpatient&#x27;, &#x27;number_emergency&#x27;, &#x27;number_inpatient&#x27;, &#x27;number_diagnoses&#x27;]</pre></div></div></div><div class=\"sk-serial\"><div class=\"sk-item\"><div class=\"sk-serial\"><div class=\"sk-item\"><div class=\"sk-estimator sk-toggleable\"><input class=\"sk-toggleable__control sk-hidden--visually\" id=\"sk-estimator-id-22\" type=\"checkbox\" ><label for=\"sk-estimator-id-22\" class=\"sk-toggleable__label sk-toggleable__label-arrow\">SimpleImputer</label><div class=\"sk-toggleable__content\"><pre>SimpleImputer()</pre></div></div></div><div class=\"sk-item\"><div class=\"sk-estimator sk-toggleable\"><input class=\"sk-toggleable__control sk-hidden--visually\" id=\"sk-estimator-id-23\" type=\"checkbox\" ><label for=\"sk-estimator-id-23\" class=\"sk-toggleable__label sk-toggleable__label-arrow\">StandardScaler</label><div class=\"sk-toggleable__content\"><pre>StandardScaler()</pre></div></div></div></div></div></div></div></div><div class=\"sk-parallel-item\"><div class=\"sk-item\"><div class=\"sk-label-container\"><div class=\"sk-label sk-toggleable\"><input class=\"sk-toggleable__control sk-hidden--visually\" id=\"sk-estimator-id-24\" type=\"checkbox\" ><label for=\"sk-estimator-id-24\" class=\"sk-toggleable__label sk-toggleable__label-arrow\">category</label><div class=\"sk-toggleable__content\"><pre>[&#x27;race&#x27;, &#x27;gender&#x27;, &#x27;diag_1&#x27;, &#x27;diag_2&#x27;, &#x27;diag_3&#x27;, &#x27;max_glu_serum&#x27;, &#x27;A1Cresult&#x27;, &#x27;metformin&#x27;, &#x27;repaglinide&#x27;, &#x27;nateglinide&#x27;, &#x27;chlorpropamide&#x27;, &#x27;glimepiride&#x27;, &#x27;acetohexamide&#x27;, &#x27;glipizide&#x27;, &#x27;glyburide&#x27;, &#x27;tolbutamide&#x27;, &#x27;pioglitazone&#x27;, &#x27;rosiglitazone&#x27;, &#x27;acarbose&#x27;, &#x27;miglitol&#x27;, &#x27;troglitazone&#x27;, &#x27;tolazamide&#x27;, &#x27;examide&#x27;, &#x27;citoglipton&#x27;, &#x27;insulin&#x27;, &#x27;glyburide-metformin&#x27;, &#x27;glipizide-metformin&#x27;, &#x27;glimepiride-pioglitazone&#x27;, &#x27;metformin-rosiglitazone&#x27;, &#x27;metformin-pioglitazone&#x27;, &#x27;change&#x27;, &#x27;diabetesMed&#x27;]</pre></div></div></div><div class=\"sk-serial\"><div class=\"sk-item\"><div class=\"sk-serial\"><div class=\"sk-item\"><div class=\"sk-estimator sk-toggleable\"><input class=\"sk-toggleable__control sk-hidden--visually\" id=\"sk-estimator-id-25\" type=\"checkbox\" ><label for=\"sk-estimator-id-25\" class=\"sk-toggleable__label sk-toggleable__label-arrow\">SimpleImputer</label><div class=\"sk-toggleable__content\"><pre>SimpleImputer(strategy=&#x27;most_frequent&#x27;)</pre></div></div></div><div class=\"sk-item\"><div class=\"sk-estimator sk-toggleable\"><input class=\"sk-toggleable__control sk-hidden--visually\" id=\"sk-estimator-id-26\" type=\"checkbox\" ><label for=\"sk-estimator-id-26\" class=\"sk-toggleable__label sk-toggleable__label-arrow\">OneHotEncoder</label><div class=\"sk-toggleable__content\"><pre>OneHotEncoder(drop=&#x27;first&#x27;, handle_unknown=&#x27;ignore&#x27;, sparse_output=False)</pre></div></div></div></div></div></div></div></div></div></div><div class=\"sk-item\"><div class=\"sk-estimator sk-toggleable\"><input class=\"sk-toggleable__control sk-hidden--visually\" id=\"sk-estimator-id-27\" type=\"checkbox\" ><label for=\"sk-estimator-id-27\" class=\"sk-toggleable__label sk-toggleable__label-arrow\">XGBClassifier</label><div class=\"sk-toggleable__content\"><pre>XGBClassifier(base_score=None, booster=None, callbacks=None,\n",
       "              colsample_bylevel=None, colsample_bynode=None,\n",
       "              colsample_bytree=None, device=None, early_stopping_rounds=None,\n",
       "              enable_categorical=False, eval_metric=&#x27;mlogloss&#x27;,\n",
       "              feature_types=None, feature_weights=None, gamma=None,\n",
       "              grow_policy=None, importance_type=None,\n",
       "              interaction_constraints=None, learning_rate=None, max_bin=None,\n",
       "              max_cat_threshold=None, max_cat_to_onehot=None,\n",
       "              max_delta_step=None, max_depth=None, max_leaves=None,\n",
       "              min_child_weight=None, missing=nan, monotone_constraints=None,\n",
       "              multi_strategy=None, n_estimators=None, n_jobs=None,\n",
       "              num_parallel_tree=None, ...)</pre></div></div></div></div></div></div></div>"
      ],
      "text/plain": [
       "Pipeline(steps=[('preprocessor',\n",
       "                 ColumnTransformer(transformers=[('number',\n",
       "                                                  Pipeline(steps=[('imputer',\n",
       "                                                                   SimpleImputer()),\n",
       "                                                                  ('scaler',\n",
       "                                                                   StandardScaler())]),\n",
       "                                                  ['age', 'admission_type_id',\n",
       "                                                   'discharge_disposition_id',\n",
       "                                                   'admission_source_id',\n",
       "                                                   'time_in_hospital',\n",
       "                                                   'num_lab_procedures',\n",
       "                                                   'num_procedures',\n",
       "                                                   'num_medications',\n",
       "                                                   'number_outpatient',\n",
       "                                                   'number_emergency',\n",
       "                                                   'number_inpa...\n",
       "                               feature_types=None, feature_weights=None,\n",
       "                               gamma=None, grow_policy=None,\n",
       "                               importance_type=None,\n",
       "                               interaction_constraints=None, learning_rate=None,\n",
       "                               max_bin=None, max_cat_threshold=None,\n",
       "                               max_cat_to_onehot=None, max_delta_step=None,\n",
       "                               max_depth=None, max_leaves=None,\n",
       "                               min_child_weight=None, missing=nan,\n",
       "                               monotone_constraints=None, multi_strategy=None,\n",
       "                               n_estimators=None, n_jobs=None,\n",
       "                               num_parallel_tree=None, ...))])"
      ]
     },
     "execution_count": 35,
     "metadata": {},
     "output_type": "execute_result"
    }
   ],
   "source": [
    "xgb_pipeline.fit(x_train, y_train)"
   ]
  },
  {
   "cell_type": "code",
   "execution_count": 36,
   "id": "1139cbac",
   "metadata": {},
   "outputs": [
    {
     "name": "stderr",
     "output_type": "stream",
     "text": [
      "/Users/sagunshrestha/anaconda3/lib/python3.11/site-packages/sklearn/preprocessing/_encoders.py:227: UserWarning: Found unknown categories in columns [12, 18] during transform. These unknown categories will be encoded as all zeros\n",
      "  warnings.warn(\n"
     ]
    }
   ],
   "source": [
    "readmitance_predict_xbg = xgb_pipeline.predict(x_test)"
   ]
  },
  {
   "cell_type": "code",
   "execution_count": 37,
   "id": "16f5cff9",
   "metadata": {},
   "outputs": [
    {
     "name": "stdout",
     "output_type": "stream",
     "text": [
      "Accuracy is 0.642547770700637\n"
     ]
    }
   ],
   "source": [
    "readmitance_predict_xbg\n",
    "print(f\"Accuracy is {accuracy_score(y_test, readmitance_predict_xbg)}\")"
   ]
  },
  {
   "cell_type": "code",
   "execution_count": 38,
   "id": "be194ae1",
   "metadata": {},
   "outputs": [
    {
     "name": "stdout",
     "output_type": "stream",
     "text": [
      "Report               precision    recall  f1-score   support\n",
      "\n",
      "           0       0.65      0.71      0.68     10474\n",
      "           1       0.63      0.57      0.60      9151\n",
      "\n",
      "    accuracy                           0.64     19625\n",
      "   macro avg       0.64      0.64      0.64     19625\n",
      "weighted avg       0.64      0.64      0.64     19625\n",
      "\n"
     ]
    }
   ],
   "source": [
    "print(f\"Report {classification_report(y_test, readmitance_predict_xbg)}\")"
   ]
  },
  {
   "cell_type": "code",
   "execution_count": 39,
   "id": "aa273123",
   "metadata": {},
   "outputs": [
    {
     "data": {
      "text/plain": [
       "Index(['race', 'gender', 'age', 'admission_type_id',\n",
       "       'discharge_disposition_id', 'admission_source_id', 'time_in_hospital',\n",
       "       'num_lab_procedures', 'num_procedures', 'num_medications',\n",
       "       'number_outpatient', 'number_emergency', 'number_inpatient', 'diag_1',\n",
       "       'diag_2', 'diag_3', 'number_diagnoses', 'max_glu_serum', 'A1Cresult',\n",
       "       'metformin', 'repaglinide', 'nateglinide', 'chlorpropamide',\n",
       "       'glimepiride', 'acetohexamide', 'glipizide', 'glyburide', 'tolbutamide',\n",
       "       'pioglitazone', 'rosiglitazone', 'acarbose', 'miglitol', 'troglitazone',\n",
       "       'tolazamide', 'examide', 'citoglipton', 'insulin',\n",
       "       'glyburide-metformin', 'glipizide-metformin',\n",
       "       'glimepiride-pioglitazone', 'metformin-rosiglitazone',\n",
       "       'metformin-pioglitazone', 'change', 'diabetesMed', 'readmitted'],\n",
       "      dtype='object')"
      ]
     },
     "execution_count": 39,
     "metadata": {},
     "output_type": "execute_result"
    }
   ],
   "source": [
    "diabetes_data.columns\n"
   ]
  },
  {
   "cell_type": "code",
   "execution_count": 40,
   "id": "4244b285",
   "metadata": {},
   "outputs": [
    {
     "name": "stdout",
     "output_type": "stream",
     "text": [
      "Confusion Matrix:\n",
      "[[7410 3064]\n",
      " [3951 5200]]\n"
     ]
    },
    {
     "name": "stderr",
     "output_type": "stream",
     "text": [
      "/Users/sagunshrestha/anaconda3/lib/python3.11/site-packages/sklearn/preprocessing/_encoders.py:227: UserWarning: Found unknown categories in columns [12, 18] during transform. These unknown categories will be encoded as all zeros\n",
      "  warnings.warn(\n"
     ]
    }
   ],
   "source": [
    "# Not impressive, not lets see what the confision matrix says\n",
    "from sklearn.metrics import confusion_matrix, ConfusionMatrixDisplay\n",
    "\n",
    "y_pred = xgb_pipeline.predict(x_test)\n",
    "label_encoder = LabelEncoder()\n",
    "\n",
    "cm = confusion_matrix(y_test, y_pred)\n",
    "\n",
    "\n",
    "print(\"Confusion Matrix:\")\n",
    "print(cm)\n",
    "\n"
   ]
  },
  {
   "cell_type": "code",
   "execution_count": null,
   "id": "3a6663dd",
   "metadata": {},
   "outputs": [],
   "source": []
  }
 ],
 "metadata": {
  "kernelspec": {
   "display_name": "Python 3 (ipykernel)",
   "language": "python",
   "name": "python3"
  },
  "language_info": {
   "codemirror_mode": {
    "name": "ipython",
    "version": 3
   },
   "file_extension": ".py",
   "mimetype": "text/x-python",
   "name": "python",
   "nbconvert_exporter": "python",
   "pygments_lexer": "ipython3",
   "version": "3.11.5"
  }
 },
 "nbformat": 4,
 "nbformat_minor": 5
}
