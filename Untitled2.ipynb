{
 "cells": [
  {
   "cell_type": "code",
   "execution_count": 1,
   "id": "c01a02fd",
   "metadata": {},
   "outputs": [
    {
     "name": "stdout",
     "output_type": "stream",
     "text": [
      "Collecting shap\n",
      "  Obtaining dependency information for shap from https://files.pythonhosted.org/packages/58/88/5a6649b5b5336489d3d87246ac95420aff2bb30a9f90c8875c84a82740c7/shap-0.47.1-cp311-cp311-macosx_11_0_arm64.whl.metadata\n",
      "  Downloading shap-0.47.1-cp311-cp311-macosx_11_0_arm64.whl.metadata (25 kB)\n",
      "Requirement already satisfied: numpy in /Users/sagunshrestha/anaconda3/lib/python3.11/site-packages (from shap) (1.24.3)\n",
      "Requirement already satisfied: scipy in /Users/sagunshrestha/anaconda3/lib/python3.11/site-packages (from shap) (1.11.1)\n",
      "Requirement already satisfied: scikit-learn in /Users/sagunshrestha/anaconda3/lib/python3.11/site-packages (from shap) (1.3.0)\n",
      "Requirement already satisfied: pandas in /Users/sagunshrestha/anaconda3/lib/python3.11/site-packages (from shap) (2.0.3)\n",
      "Requirement already satisfied: tqdm>=4.27.0 in /Users/sagunshrestha/anaconda3/lib/python3.11/site-packages (from shap) (4.65.0)\n",
      "Requirement already satisfied: packaging>20.9 in /Users/sagunshrestha/anaconda3/lib/python3.11/site-packages (from shap) (23.1)\n",
      "Collecting slicer==0.0.8 (from shap)\n",
      "  Obtaining dependency information for slicer==0.0.8 from https://files.pythonhosted.org/packages/63/81/9ef641ff4e12cbcca30e54e72fb0951a2ba195d0cda0ba4100e532d929db/slicer-0.0.8-py3-none-any.whl.metadata\n",
      "  Downloading slicer-0.0.8-py3-none-any.whl.metadata (4.0 kB)\n",
      "Requirement already satisfied: numba>=0.54 in /Users/sagunshrestha/anaconda3/lib/python3.11/site-packages (from shap) (0.57.1)\n",
      "Requirement already satisfied: cloudpickle in /Users/sagunshrestha/anaconda3/lib/python3.11/site-packages (from shap) (2.2.1)\n",
      "Requirement already satisfied: typing-extensions in /Users/sagunshrestha/anaconda3/lib/python3.11/site-packages (from shap) (4.7.1)\n",
      "Requirement already satisfied: llvmlite<0.41,>=0.40.0dev0 in /Users/sagunshrestha/anaconda3/lib/python3.11/site-packages (from numba>=0.54->shap) (0.40.0)\n",
      "Requirement already satisfied: python-dateutil>=2.8.2 in /Users/sagunshrestha/anaconda3/lib/python3.11/site-packages (from pandas->shap) (2.8.2)\n",
      "Requirement already satisfied: pytz>=2020.1 in /Users/sagunshrestha/anaconda3/lib/python3.11/site-packages (from pandas->shap) (2023.3.post1)\n",
      "Requirement already satisfied: tzdata>=2022.1 in /Users/sagunshrestha/anaconda3/lib/python3.11/site-packages (from pandas->shap) (2023.3)\n",
      "Requirement already satisfied: joblib>=1.1.1 in /Users/sagunshrestha/anaconda3/lib/python3.11/site-packages (from scikit-learn->shap) (1.2.0)\n",
      "Requirement already satisfied: threadpoolctl>=2.0.0 in /Users/sagunshrestha/anaconda3/lib/python3.11/site-packages (from scikit-learn->shap) (2.2.0)\n",
      "Requirement already satisfied: six>=1.5 in /Users/sagunshrestha/anaconda3/lib/python3.11/site-packages (from python-dateutil>=2.8.2->pandas->shap) (1.16.0)\n",
      "Downloading shap-0.47.1-cp311-cp311-macosx_11_0_arm64.whl (491 kB)\n",
      "\u001b[2K   \u001b[90m━━━━━━━━━━━━━━━━━━━━━━━━━━━━━━━━━━━━━━━━\u001b[0m \u001b[32m491.8/491.8 kB\u001b[0m \u001b[31m9.9 MB/s\u001b[0m eta \u001b[36m0:00:00\u001b[0ma \u001b[36m0:00:01\u001b[0m\n",
      "\u001b[?25hDownloading slicer-0.0.8-py3-none-any.whl (15 kB)\n",
      "Installing collected packages: slicer, shap\n",
      "Successfully installed shap-0.47.1 slicer-0.0.8\n"
     ]
    }
   ],
   "source": [
    "!pip install shap\n"
   ]
  },
  {
   "cell_type": "code",
   "execution_count": null,
   "id": "797567d5",
   "metadata": {},
   "outputs": [],
   "source": []
  }
 ],
 "metadata": {
  "kernelspec": {
   "display_name": "Python 3 (ipykernel)",
   "language": "python",
   "name": "python3"
  },
  "language_info": {
   "codemirror_mode": {
    "name": "ipython",
    "version": 3
   },
   "file_extension": ".py",
   "mimetype": "text/x-python",
   "name": "python",
   "nbconvert_exporter": "python",
   "pygments_lexer": "ipython3",
   "version": "3.11.5"
  }
 },
 "nbformat": 4,
 "nbformat_minor": 5
}
